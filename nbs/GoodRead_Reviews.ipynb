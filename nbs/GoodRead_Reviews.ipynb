{
  "cells": [
    {
      "cell_type": "markdown",
      "metadata": {
        "id": "Xadh5EE7kl_k"
      },
      "source": [
        "# GoodReads Review to Rating Notebook"
      ]
    },
    {
      "cell_type": "markdown",
      "metadata": {
        "id": "Ury6CRvdnKvv"
      },
      "source": [
        "## I. Import libraries"
      ]
    },
    {
      "cell_type": "code",
      "execution_count": 1,
      "metadata": {
        "id": "a55NAdRxVChj"
      },
      "outputs": [],
      "source": [
        "import numpy as np\n",
        "import pandas as pd\n",
        "import matplotlib.pyplot as plt\n",
        "import seaborn as sns\n",
        "\n",
        "import os\n",
        "from pathlib import Path\n",
        "from zipfile import ZipFile"
      ]
    },
    {
      "cell_type": "markdown",
      "metadata": {
        "id": "LWCUkO8flCSJ"
      },
      "source": [
        "## II. Prepare Data"
      ]
    },
    {
      "cell_type": "markdown",
      "metadata": {
        "id": "ULx9m8qplLVw"
      },
      "source": [
        "### 1. Install kaggle and get data from Kaggle"
      ]
    },
    {
      "cell_type": "code",
      "execution_count": 2,
      "metadata": {
        "id": "N4N6e8MVMGa4"
      },
      "outputs": [],
      "source": [
        "## Install kaggle for data\n",
        "%pip install -q kaggle"
      ]
    },
    {
      "cell_type": "code",
      "execution_count": 3,
      "metadata": {
        "colab": {
          "base_uri": "https://localhost:8080/",
          "height": 74
        },
        "id": "k98qRu_FMq_D",
        "outputId": "a15a3cb2-b632-4575-bb96-cefd5730bc69"
      },
      "outputs": [
        {
          "output_type": "display_data",
          "data": {
            "text/plain": [
              "<IPython.core.display.HTML object>"
            ],
            "text/html": [
              "\n",
              "     <input type=\"file\" id=\"files-c991d51f-2b25-406e-be46-7a89379d09e8\" name=\"files[]\" multiple disabled\n",
              "        style=\"border:none\" />\n",
              "     <output id=\"result-c991d51f-2b25-406e-be46-7a89379d09e8\">\n",
              "      Upload widget is only available when the cell has been executed in the\n",
              "      current browser session. Please rerun this cell to enable.\n",
              "      </output>\n",
              "      <script>// Copyright 2017 Google LLC\n",
              "//\n",
              "// Licensed under the Apache License, Version 2.0 (the \"License\");\n",
              "// you may not use this file except in compliance with the License.\n",
              "// You may obtain a copy of the License at\n",
              "//\n",
              "//      http://www.apache.org/licenses/LICENSE-2.0\n",
              "//\n",
              "// Unless required by applicable law or agreed to in writing, software\n",
              "// distributed under the License is distributed on an \"AS IS\" BASIS,\n",
              "// WITHOUT WARRANTIES OR CONDITIONS OF ANY KIND, either express or implied.\n",
              "// See the License for the specific language governing permissions and\n",
              "// limitations under the License.\n",
              "\n",
              "/**\n",
              " * @fileoverview Helpers for google.colab Python module.\n",
              " */\n",
              "(function(scope) {\n",
              "function span(text, styleAttributes = {}) {\n",
              "  const element = document.createElement('span');\n",
              "  element.textContent = text;\n",
              "  for (const key of Object.keys(styleAttributes)) {\n",
              "    element.style[key] = styleAttributes[key];\n",
              "  }\n",
              "  return element;\n",
              "}\n",
              "\n",
              "// Max number of bytes which will be uploaded at a time.\n",
              "const MAX_PAYLOAD_SIZE = 100 * 1024;\n",
              "\n",
              "function _uploadFiles(inputId, outputId) {\n",
              "  const steps = uploadFilesStep(inputId, outputId);\n",
              "  const outputElement = document.getElementById(outputId);\n",
              "  // Cache steps on the outputElement to make it available for the next call\n",
              "  // to uploadFilesContinue from Python.\n",
              "  outputElement.steps = steps;\n",
              "\n",
              "  return _uploadFilesContinue(outputId);\n",
              "}\n",
              "\n",
              "// This is roughly an async generator (not supported in the browser yet),\n",
              "// where there are multiple asynchronous steps and the Python side is going\n",
              "// to poll for completion of each step.\n",
              "// This uses a Promise to block the python side on completion of each step,\n",
              "// then passes the result of the previous step as the input to the next step.\n",
              "function _uploadFilesContinue(outputId) {\n",
              "  const outputElement = document.getElementById(outputId);\n",
              "  const steps = outputElement.steps;\n",
              "\n",
              "  const next = steps.next(outputElement.lastPromiseValue);\n",
              "  return Promise.resolve(next.value.promise).then((value) => {\n",
              "    // Cache the last promise value to make it available to the next\n",
              "    // step of the generator.\n",
              "    outputElement.lastPromiseValue = value;\n",
              "    return next.value.response;\n",
              "  });\n",
              "}\n",
              "\n",
              "/**\n",
              " * Generator function which is called between each async step of the upload\n",
              " * process.\n",
              " * @param {string} inputId Element ID of the input file picker element.\n",
              " * @param {string} outputId Element ID of the output display.\n",
              " * @return {!Iterable<!Object>} Iterable of next steps.\n",
              " */\n",
              "function* uploadFilesStep(inputId, outputId) {\n",
              "  const inputElement = document.getElementById(inputId);\n",
              "  inputElement.disabled = false;\n",
              "\n",
              "  const outputElement = document.getElementById(outputId);\n",
              "  outputElement.innerHTML = '';\n",
              "\n",
              "  const pickedPromise = new Promise((resolve) => {\n",
              "    inputElement.addEventListener('change', (e) => {\n",
              "      resolve(e.target.files);\n",
              "    });\n",
              "  });\n",
              "\n",
              "  const cancel = document.createElement('button');\n",
              "  inputElement.parentElement.appendChild(cancel);\n",
              "  cancel.textContent = 'Cancel upload';\n",
              "  const cancelPromise = new Promise((resolve) => {\n",
              "    cancel.onclick = () => {\n",
              "      resolve(null);\n",
              "    };\n",
              "  });\n",
              "\n",
              "  // Wait for the user to pick the files.\n",
              "  const files = yield {\n",
              "    promise: Promise.race([pickedPromise, cancelPromise]),\n",
              "    response: {\n",
              "      action: 'starting',\n",
              "    }\n",
              "  };\n",
              "\n",
              "  cancel.remove();\n",
              "\n",
              "  // Disable the input element since further picks are not allowed.\n",
              "  inputElement.disabled = true;\n",
              "\n",
              "  if (!files) {\n",
              "    return {\n",
              "      response: {\n",
              "        action: 'complete',\n",
              "      }\n",
              "    };\n",
              "  }\n",
              "\n",
              "  for (const file of files) {\n",
              "    const li = document.createElement('li');\n",
              "    li.append(span(file.name, {fontWeight: 'bold'}));\n",
              "    li.append(span(\n",
              "        `(${file.type || 'n/a'}) - ${file.size} bytes, ` +\n",
              "        `last modified: ${\n",
              "            file.lastModifiedDate ? file.lastModifiedDate.toLocaleDateString() :\n",
              "                                    'n/a'} - `));\n",
              "    const percent = span('0% done');\n",
              "    li.appendChild(percent);\n",
              "\n",
              "    outputElement.appendChild(li);\n",
              "\n",
              "    const fileDataPromise = new Promise((resolve) => {\n",
              "      const reader = new FileReader();\n",
              "      reader.onload = (e) => {\n",
              "        resolve(e.target.result);\n",
              "      };\n",
              "      reader.readAsArrayBuffer(file);\n",
              "    });\n",
              "    // Wait for the data to be ready.\n",
              "    let fileData = yield {\n",
              "      promise: fileDataPromise,\n",
              "      response: {\n",
              "        action: 'continue',\n",
              "      }\n",
              "    };\n",
              "\n",
              "    // Use a chunked sending to avoid message size limits. See b/62115660.\n",
              "    let position = 0;\n",
              "    do {\n",
              "      const length = Math.min(fileData.byteLength - position, MAX_PAYLOAD_SIZE);\n",
              "      const chunk = new Uint8Array(fileData, position, length);\n",
              "      position += length;\n",
              "\n",
              "      const base64 = btoa(String.fromCharCode.apply(null, chunk));\n",
              "      yield {\n",
              "        response: {\n",
              "          action: 'append',\n",
              "          file: file.name,\n",
              "          data: base64,\n",
              "        },\n",
              "      };\n",
              "\n",
              "      let percentDone = fileData.byteLength === 0 ?\n",
              "          100 :\n",
              "          Math.round((position / fileData.byteLength) * 100);\n",
              "      percent.textContent = `${percentDone}% done`;\n",
              "\n",
              "    } while (position < fileData.byteLength);\n",
              "  }\n",
              "\n",
              "  // All done.\n",
              "  yield {\n",
              "    response: {\n",
              "      action: 'complete',\n",
              "    }\n",
              "  };\n",
              "}\n",
              "\n",
              "scope.google = scope.google || {};\n",
              "scope.google.colab = scope.google.colab || {};\n",
              "scope.google.colab._files = {\n",
              "  _uploadFiles,\n",
              "  _uploadFilesContinue,\n",
              "};\n",
              "})(self);\n",
              "</script> "
            ]
          },
          "metadata": {}
        },
        {
          "output_type": "stream",
          "name": "stdout",
          "text": [
            "Saving kaggle.json to kaggle.json\n"
          ]
        }
      ],
      "source": [
        "from google.colab import files \n",
        "file = files.upload()"
      ]
    },
    {
      "cell_type": "code",
      "execution_count": 4,
      "metadata": {
        "id": "yK9GxYfMM-vD"
      },
      "outputs": [],
      "source": [
        "kaggle_path = f\"{os.getenv('HOME')}/.kaggle\"\n",
        "kaggle = Path(kaggle_path)\n",
        "kaggle.mkdir(parents=True)\n",
        "\n",
        "\n",
        "os.replace(\"kaggle.json\", os.path.join(kaggle_path, \"kaggle.json\"))\n",
        "os.chmod(os.path.join(kaggle_path, \"kaggle.json\"), 0o600)"
      ]
    },
    {
      "cell_type": "code",
      "execution_count": 5,
      "metadata": {
        "colab": {
          "base_uri": "https://localhost:8080/"
        },
        "id": "XJTSaBl6PCqR",
        "outputId": "cfe773f7-eec1-44af-b9a0-2ac0e92b2f5f"
      },
      "outputs": [
        {
          "output_type": "stream",
          "name": "stdout",
          "text": [
            "Downloading goodreads-books-reviews-290312.zip to /content\n",
            " 97% 617M/635M [00:03<00:00, 168MB/s]\n",
            "100% 635M/635M [00:03<00:00, 168MB/s]\n"
          ]
        }
      ],
      "source": [
        "! kaggle competitions download -c goodreads-books-reviews-290312"
      ]
    },
    {
      "cell_type": "markdown",
      "metadata": {
        "id": "pjHkfTQNlWli"
      },
      "source": [
        "### 2. Unzip and move data to its specific folders"
      ]
    },
    {
      "cell_type": "code",
      "execution_count": 6,
      "metadata": {
        "id": "voL_HxSqPWgs"
      },
      "outputs": [],
      "source": [
        "zip_file = ZipFile(\"goodreads-books-reviews-290312.zip\")\n",
        "zip_file.extractall()"
      ]
    },
    {
      "cell_type": "code",
      "execution_count": 7,
      "metadata": {
        "id": "Ns7mqQS1nIQr"
      },
      "outputs": [],
      "source": [
        "data_path = \"data\"\n",
        "train_path = os.path.join(data_path, \"train\")\n",
        "test_path = os.path.join(data_path, \"test\")"
      ]
    },
    {
      "cell_type": "code",
      "execution_count": 8,
      "metadata": {
        "id": "AC4_8W1sQlbm"
      },
      "outputs": [],
      "source": [
        "for path in (train_path, test_path):\n",
        "  os.makedirs(path)\n",
        "\n",
        "## Move train\n",
        "os.replace(\"./goodreads_train.csv\", os.path.join(train_path, \"goodreads_train.csv\"))\n",
        "os.replace(\"./goodreads_test.csv\", os.path.join(test_path, \"goodreads_test.csv\"))"
      ]
    },
    {
      "cell_type": "markdown",
      "metadata": {
        "id": "JgYn59Q2m8Km"
      },
      "source": [
        "### 3. Loading data"
      ]
    },
    {
      "cell_type": "code",
      "execution_count": 10,
      "metadata": {
        "id": "UhzaU6UEVNce"
      },
      "outputs": [],
      "source": [
        "train_data = pd.read_csv(os.path.join(train_path, \"goodreads_train.csv\"))"
      ]
    },
    {
      "cell_type": "code",
      "execution_count": 11,
      "metadata": {
        "colab": {
          "base_uri": "https://localhost:8080/",
          "height": 583
        },
        "id": "SnRuXKZJVXb7",
        "outputId": "a27db99b-974c-4df6-9edf-bae7ef87107f"
      },
      "outputs": [
        {
          "output_type": "execute_result",
          "data": {
            "text/plain": [
              "                            user_id   book_id  \\\n",
              "0  8842281e1d1347389f2ab93d60773d4d  18245960   \n",
              "1  8842281e1d1347389f2ab93d60773d4d     16981   \n",
              "2  8842281e1d1347389f2ab93d60773d4d  28684704   \n",
              "3  8842281e1d1347389f2ab93d60773d4d  27161156   \n",
              "4  8842281e1d1347389f2ab93d60773d4d  25884323   \n",
              "\n",
              "                          review_id  rating  \\\n",
              "0  dfdbb7b0eb5a7e4c26d59a937e2e5feb       5   \n",
              "1  a5d2c3628987712d0e05c4f90798eb67       3   \n",
              "2  2ede853b14dc4583f96cf5d120af636f       3   \n",
              "3  ced5675e55cd9d38a524743f5c40996e       0   \n",
              "4  332732725863131279a8e345b63ac33e       4   \n",
              "\n",
              "                                         review_text  \\\n",
              "0  This is a special book. It started slow for ab...   \n",
              "1  Recommended by Don Katz. Avail for free in Dec...   \n",
              "2  A fun, fast paced science fiction thriller. I ...   \n",
              "3  Recommended reading to understand what is goin...   \n",
              "4  I really enjoyed this book, and there is a lot...   \n",
              "\n",
              "                       date_added                    date_updated  \\\n",
              "0  Sun Jul 30 07:44:10 -0700 2017  Wed Aug 30 00:00:26 -0700 2017   \n",
              "1  Mon Dec 05 10:46:44 -0800 2016  Wed Mar 22 11:37:04 -0700 2017   \n",
              "2  Tue Nov 15 11:29:22 -0800 2016  Mon Mar 20 23:40:27 -0700 2017   \n",
              "3  Wed Nov 09 17:37:04 -0800 2016  Wed Nov 09 17:38:20 -0800 2016   \n",
              "4  Mon Apr 25 09:31:23 -0700 2016  Mon Apr 25 09:31:23 -0700 2016   \n",
              "\n",
              "                          read_at                      started_at  n_votes  \\\n",
              "0  Sat Aug 26 12:05:52 -0700 2017  Tue Aug 15 13:23:18 -0700 2017       28   \n",
              "1                             NaN                             NaN        1   \n",
              "2  Sat Mar 18 23:22:42 -0700 2017  Fri Mar 17 23:45:40 -0700 2017       22   \n",
              "3                             NaN                             NaN        5   \n",
              "4  Sun Jun 26 00:00:00 -0700 2016  Sat May 28 00:00:00 -0700 2016        9   \n",
              "\n",
              "   n_comments  \n",
              "0           1  \n",
              "1           0  \n",
              "2           0  \n",
              "3           1  \n",
              "4           1  "
            ],
            "text/html": [
              "\n",
              "  <div id=\"df-ebf5b725-6922-4682-ba05-33b67dcad350\">\n",
              "    <div class=\"colab-df-container\">\n",
              "      <div>\n",
              "<style scoped>\n",
              "    .dataframe tbody tr th:only-of-type {\n",
              "        vertical-align: middle;\n",
              "    }\n",
              "\n",
              "    .dataframe tbody tr th {\n",
              "        vertical-align: top;\n",
              "    }\n",
              "\n",
              "    .dataframe thead th {\n",
              "        text-align: right;\n",
              "    }\n",
              "</style>\n",
              "<table border=\"1\" class=\"dataframe\">\n",
              "  <thead>\n",
              "    <tr style=\"text-align: right;\">\n",
              "      <th></th>\n",
              "      <th>user_id</th>\n",
              "      <th>book_id</th>\n",
              "      <th>review_id</th>\n",
              "      <th>rating</th>\n",
              "      <th>review_text</th>\n",
              "      <th>date_added</th>\n",
              "      <th>date_updated</th>\n",
              "      <th>read_at</th>\n",
              "      <th>started_at</th>\n",
              "      <th>n_votes</th>\n",
              "      <th>n_comments</th>\n",
              "    </tr>\n",
              "  </thead>\n",
              "  <tbody>\n",
              "    <tr>\n",
              "      <th>0</th>\n",
              "      <td>8842281e1d1347389f2ab93d60773d4d</td>\n",
              "      <td>18245960</td>\n",
              "      <td>dfdbb7b0eb5a7e4c26d59a937e2e5feb</td>\n",
              "      <td>5</td>\n",
              "      <td>This is a special book. It started slow for ab...</td>\n",
              "      <td>Sun Jul 30 07:44:10 -0700 2017</td>\n",
              "      <td>Wed Aug 30 00:00:26 -0700 2017</td>\n",
              "      <td>Sat Aug 26 12:05:52 -0700 2017</td>\n",
              "      <td>Tue Aug 15 13:23:18 -0700 2017</td>\n",
              "      <td>28</td>\n",
              "      <td>1</td>\n",
              "    </tr>\n",
              "    <tr>\n",
              "      <th>1</th>\n",
              "      <td>8842281e1d1347389f2ab93d60773d4d</td>\n",
              "      <td>16981</td>\n",
              "      <td>a5d2c3628987712d0e05c4f90798eb67</td>\n",
              "      <td>3</td>\n",
              "      <td>Recommended by Don Katz. Avail for free in Dec...</td>\n",
              "      <td>Mon Dec 05 10:46:44 -0800 2016</td>\n",
              "      <td>Wed Mar 22 11:37:04 -0700 2017</td>\n",
              "      <td>NaN</td>\n",
              "      <td>NaN</td>\n",
              "      <td>1</td>\n",
              "      <td>0</td>\n",
              "    </tr>\n",
              "    <tr>\n",
              "      <th>2</th>\n",
              "      <td>8842281e1d1347389f2ab93d60773d4d</td>\n",
              "      <td>28684704</td>\n",
              "      <td>2ede853b14dc4583f96cf5d120af636f</td>\n",
              "      <td>3</td>\n",
              "      <td>A fun, fast paced science fiction thriller. I ...</td>\n",
              "      <td>Tue Nov 15 11:29:22 -0800 2016</td>\n",
              "      <td>Mon Mar 20 23:40:27 -0700 2017</td>\n",
              "      <td>Sat Mar 18 23:22:42 -0700 2017</td>\n",
              "      <td>Fri Mar 17 23:45:40 -0700 2017</td>\n",
              "      <td>22</td>\n",
              "      <td>0</td>\n",
              "    </tr>\n",
              "    <tr>\n",
              "      <th>3</th>\n",
              "      <td>8842281e1d1347389f2ab93d60773d4d</td>\n",
              "      <td>27161156</td>\n",
              "      <td>ced5675e55cd9d38a524743f5c40996e</td>\n",
              "      <td>0</td>\n",
              "      <td>Recommended reading to understand what is goin...</td>\n",
              "      <td>Wed Nov 09 17:37:04 -0800 2016</td>\n",
              "      <td>Wed Nov 09 17:38:20 -0800 2016</td>\n",
              "      <td>NaN</td>\n",
              "      <td>NaN</td>\n",
              "      <td>5</td>\n",
              "      <td>1</td>\n",
              "    </tr>\n",
              "    <tr>\n",
              "      <th>4</th>\n",
              "      <td>8842281e1d1347389f2ab93d60773d4d</td>\n",
              "      <td>25884323</td>\n",
              "      <td>332732725863131279a8e345b63ac33e</td>\n",
              "      <td>4</td>\n",
              "      <td>I really enjoyed this book, and there is a lot...</td>\n",
              "      <td>Mon Apr 25 09:31:23 -0700 2016</td>\n",
              "      <td>Mon Apr 25 09:31:23 -0700 2016</td>\n",
              "      <td>Sun Jun 26 00:00:00 -0700 2016</td>\n",
              "      <td>Sat May 28 00:00:00 -0700 2016</td>\n",
              "      <td>9</td>\n",
              "      <td>1</td>\n",
              "    </tr>\n",
              "  </tbody>\n",
              "</table>\n",
              "</div>\n",
              "      <button class=\"colab-df-convert\" onclick=\"convertToInteractive('df-ebf5b725-6922-4682-ba05-33b67dcad350')\"\n",
              "              title=\"Convert this dataframe to an interactive table.\"\n",
              "              style=\"display:none;\">\n",
              "        \n",
              "  <svg xmlns=\"http://www.w3.org/2000/svg\" height=\"24px\"viewBox=\"0 0 24 24\"\n",
              "       width=\"24px\">\n",
              "    <path d=\"M0 0h24v24H0V0z\" fill=\"none\"/>\n",
              "    <path d=\"M18.56 5.44l.94 2.06.94-2.06 2.06-.94-2.06-.94-.94-2.06-.94 2.06-2.06.94zm-11 1L8.5 8.5l.94-2.06 2.06-.94-2.06-.94L8.5 2.5l-.94 2.06-2.06.94zm10 10l.94 2.06.94-2.06 2.06-.94-2.06-.94-.94-2.06-.94 2.06-2.06.94z\"/><path d=\"M17.41 7.96l-1.37-1.37c-.4-.4-.92-.59-1.43-.59-.52 0-1.04.2-1.43.59L10.3 9.45l-7.72 7.72c-.78.78-.78 2.05 0 2.83L4 21.41c.39.39.9.59 1.41.59.51 0 1.02-.2 1.41-.59l7.78-7.78 2.81-2.81c.8-.78.8-2.07 0-2.86zM5.41 20L4 18.59l7.72-7.72 1.47 1.35L5.41 20z\"/>\n",
              "  </svg>\n",
              "      </button>\n",
              "      \n",
              "  <style>\n",
              "    .colab-df-container {\n",
              "      display:flex;\n",
              "      flex-wrap:wrap;\n",
              "      gap: 12px;\n",
              "    }\n",
              "\n",
              "    .colab-df-convert {\n",
              "      background-color: #E8F0FE;\n",
              "      border: none;\n",
              "      border-radius: 50%;\n",
              "      cursor: pointer;\n",
              "      display: none;\n",
              "      fill: #1967D2;\n",
              "      height: 32px;\n",
              "      padding: 0 0 0 0;\n",
              "      width: 32px;\n",
              "    }\n",
              "\n",
              "    .colab-df-convert:hover {\n",
              "      background-color: #E2EBFA;\n",
              "      box-shadow: 0px 1px 2px rgba(60, 64, 67, 0.3), 0px 1px 3px 1px rgba(60, 64, 67, 0.15);\n",
              "      fill: #174EA6;\n",
              "    }\n",
              "\n",
              "    [theme=dark] .colab-df-convert {\n",
              "      background-color: #3B4455;\n",
              "      fill: #D2E3FC;\n",
              "    }\n",
              "\n",
              "    [theme=dark] .colab-df-convert:hover {\n",
              "      background-color: #434B5C;\n",
              "      box-shadow: 0px 1px 3px 1px rgba(0, 0, 0, 0.15);\n",
              "      filter: drop-shadow(0px 1px 2px rgba(0, 0, 0, 0.3));\n",
              "      fill: #FFFFFF;\n",
              "    }\n",
              "  </style>\n",
              "\n",
              "      <script>\n",
              "        const buttonEl =\n",
              "          document.querySelector('#df-ebf5b725-6922-4682-ba05-33b67dcad350 button.colab-df-convert');\n",
              "        buttonEl.style.display =\n",
              "          google.colab.kernel.accessAllowed ? 'block' : 'none';\n",
              "\n",
              "        async function convertToInteractive(key) {\n",
              "          const element = document.querySelector('#df-ebf5b725-6922-4682-ba05-33b67dcad350');\n",
              "          const dataTable =\n",
              "            await google.colab.kernel.invokeFunction('convertToInteractive',\n",
              "                                                     [key], {});\n",
              "          if (!dataTable) return;\n",
              "\n",
              "          const docLinkHtml = 'Like what you see? Visit the ' +\n",
              "            '<a target=\"_blank\" href=https://colab.research.google.com/notebooks/data_table.ipynb>data table notebook</a>'\n",
              "            + ' to learn more about interactive tables.';\n",
              "          element.innerHTML = '';\n",
              "          dataTable['output_type'] = 'display_data';\n",
              "          await google.colab.output.renderOutput(dataTable, element);\n",
              "          const docLink = document.createElement('div');\n",
              "          docLink.innerHTML = docLinkHtml;\n",
              "          element.appendChild(docLink);\n",
              "        }\n",
              "      </script>\n",
              "    </div>\n",
              "  </div>\n",
              "  "
            ]
          },
          "metadata": {},
          "execution_count": 11
        }
      ],
      "source": [
        "train_data.head()"
      ]
    },
    {
      "cell_type": "markdown",
      "metadata": {
        "id": "sggai4pYn8Mm"
      },
      "source": [
        "## III. Data Exploration"
      ]
    },
    {
      "cell_type": "code",
      "execution_count": null,
      "metadata": {
        "colab": {
          "base_uri": "https://localhost:8080/"
        },
        "id": "2he3-UtsmO5y",
        "outputId": "9a383567-d628-49f1-a5e5-f25d0d6972cb"
      },
      "outputs": [
        {
          "name": "stdout",
          "output_type": "stream",
          "text": [
            "<class 'pandas.core.frame.DataFrame'>\n",
            "RangeIndex: 900000 entries, 0 to 899999\n",
            "Data columns (total 11 columns):\n",
            " #   Column        Non-Null Count   Dtype \n",
            "---  ------        --------------   ----- \n",
            " 0   user_id       900000 non-null  object\n",
            " 1   book_id       900000 non-null  int64 \n",
            " 2   review_id     900000 non-null  object\n",
            " 3   rating        900000 non-null  int64 \n",
            " 4   review_text   900000 non-null  object\n",
            " 5   date_added    900000 non-null  object\n",
            " 6   date_updated  900000 non-null  object\n",
            " 7   read_at       808234 non-null  object\n",
            " 8   started_at    625703 non-null  object\n",
            " 9   n_votes       900000 non-null  int64 \n",
            " 10  n_comments    900000 non-null  int64 \n",
            "dtypes: int64(4), object(7)\n",
            "memory usage: 75.5+ MB\n"
          ]
        }
      ],
      "source": [
        "train_data.info()"
      ]
    },
    {
      "cell_type": "markdown",
      "metadata": {
        "id": "ZU8NFv18nG_t"
      },
      "source": [
        "There are 11 columns in the dataset with exactly 900000 comments. Most of the columns are not null, but there are still some null columns, such as `read_at`, `started_at`. There are some initial thoughts of why these are nulls, such as:\n",
        "* The reviewers did not read the book but still give reviews.\n",
        "* They may forget to update these information or may not want to give these information.\n"
      ]
    },
    {
      "cell_type": "markdown",
      "metadata": {
        "id": "6olJbw_Lov__"
      },
      "source": [
        "We will look at our data again to get some basic sense."
      ]
    },
    {
      "cell_type": "code",
      "execution_count": null,
      "metadata": {
        "colab": {
          "base_uri": "https://localhost:8080/",
          "height": 583
        },
        "id": "KSzJoxGro2HM",
        "outputId": "847a501a-f386-43fe-c933-e61dd2cafbf5"
      },
      "outputs": [
        {
          "data": {
            "text/html": [
              "<div>\n",
              "<style scoped>\n",
              "    .dataframe tbody tr th:only-of-type {\n",
              "        vertical-align: middle;\n",
              "    }\n",
              "\n",
              "    .dataframe tbody tr th {\n",
              "        vertical-align: top;\n",
              "    }\n",
              "\n",
              "    .dataframe thead th {\n",
              "        text-align: right;\n",
              "    }\n",
              "</style>\n",
              "<table border=\"1\" class=\"dataframe\">\n",
              "  <thead>\n",
              "    <tr style=\"text-align: right;\">\n",
              "      <th></th>\n",
              "      <th>user_id</th>\n",
              "      <th>book_id</th>\n",
              "      <th>review_id</th>\n",
              "      <th>rating</th>\n",
              "      <th>review_text</th>\n",
              "      <th>date_added</th>\n",
              "      <th>date_updated</th>\n",
              "      <th>read_at</th>\n",
              "      <th>started_at</th>\n",
              "      <th>n_votes</th>\n",
              "      <th>n_comments</th>\n",
              "    </tr>\n",
              "  </thead>\n",
              "  <tbody>\n",
              "    <tr>\n",
              "      <th>0</th>\n",
              "      <td>8842281e1d1347389f2ab93d60773d4d</td>\n",
              "      <td>18245960</td>\n",
              "      <td>dfdbb7b0eb5a7e4c26d59a937e2e5feb</td>\n",
              "      <td>5</td>\n",
              "      <td>This is a special book. It started slow for ab...</td>\n",
              "      <td>Sun Jul 30 07:44:10 -0700 2017</td>\n",
              "      <td>Wed Aug 30 00:00:26 -0700 2017</td>\n",
              "      <td>Sat Aug 26 12:05:52 -0700 2017</td>\n",
              "      <td>Tue Aug 15 13:23:18 -0700 2017</td>\n",
              "      <td>28</td>\n",
              "      <td>1</td>\n",
              "    </tr>\n",
              "    <tr>\n",
              "      <th>1</th>\n",
              "      <td>8842281e1d1347389f2ab93d60773d4d</td>\n",
              "      <td>16981</td>\n",
              "      <td>a5d2c3628987712d0e05c4f90798eb67</td>\n",
              "      <td>3</td>\n",
              "      <td>Recommended by Don Katz. Avail for free in Dec...</td>\n",
              "      <td>Mon Dec 05 10:46:44 -0800 2016</td>\n",
              "      <td>Wed Mar 22 11:37:04 -0700 2017</td>\n",
              "      <td>NaN</td>\n",
              "      <td>NaN</td>\n",
              "      <td>1</td>\n",
              "      <td>0</td>\n",
              "    </tr>\n",
              "    <tr>\n",
              "      <th>2</th>\n",
              "      <td>8842281e1d1347389f2ab93d60773d4d</td>\n",
              "      <td>28684704</td>\n",
              "      <td>2ede853b14dc4583f96cf5d120af636f</td>\n",
              "      <td>3</td>\n",
              "      <td>A fun, fast paced science fiction thriller. I ...</td>\n",
              "      <td>Tue Nov 15 11:29:22 -0800 2016</td>\n",
              "      <td>Mon Mar 20 23:40:27 -0700 2017</td>\n",
              "      <td>Sat Mar 18 23:22:42 -0700 2017</td>\n",
              "      <td>Fri Mar 17 23:45:40 -0700 2017</td>\n",
              "      <td>22</td>\n",
              "      <td>0</td>\n",
              "    </tr>\n",
              "    <tr>\n",
              "      <th>3</th>\n",
              "      <td>8842281e1d1347389f2ab93d60773d4d</td>\n",
              "      <td>27161156</td>\n",
              "      <td>ced5675e55cd9d38a524743f5c40996e</td>\n",
              "      <td>0</td>\n",
              "      <td>Recommended reading to understand what is goin...</td>\n",
              "      <td>Wed Nov 09 17:37:04 -0800 2016</td>\n",
              "      <td>Wed Nov 09 17:38:20 -0800 2016</td>\n",
              "      <td>NaN</td>\n",
              "      <td>NaN</td>\n",
              "      <td>5</td>\n",
              "      <td>1</td>\n",
              "    </tr>\n",
              "    <tr>\n",
              "      <th>4</th>\n",
              "      <td>8842281e1d1347389f2ab93d60773d4d</td>\n",
              "      <td>25884323</td>\n",
              "      <td>332732725863131279a8e345b63ac33e</td>\n",
              "      <td>4</td>\n",
              "      <td>I really enjoyed this book, and there is a lot...</td>\n",
              "      <td>Mon Apr 25 09:31:23 -0700 2016</td>\n",
              "      <td>Mon Apr 25 09:31:23 -0700 2016</td>\n",
              "      <td>Sun Jun 26 00:00:00 -0700 2016</td>\n",
              "      <td>Sat May 28 00:00:00 -0700 2016</td>\n",
              "      <td>9</td>\n",
              "      <td>1</td>\n",
              "    </tr>\n",
              "  </tbody>\n",
              "</table>\n",
              "</div>"
            ],
            "text/plain": [
              "                            user_id   book_id  \\\n",
              "0  8842281e1d1347389f2ab93d60773d4d  18245960   \n",
              "1  8842281e1d1347389f2ab93d60773d4d     16981   \n",
              "2  8842281e1d1347389f2ab93d60773d4d  28684704   \n",
              "3  8842281e1d1347389f2ab93d60773d4d  27161156   \n",
              "4  8842281e1d1347389f2ab93d60773d4d  25884323   \n",
              "\n",
              "                          review_id  rating  \\\n",
              "0  dfdbb7b0eb5a7e4c26d59a937e2e5feb       5   \n",
              "1  a5d2c3628987712d0e05c4f90798eb67       3   \n",
              "2  2ede853b14dc4583f96cf5d120af636f       3   \n",
              "3  ced5675e55cd9d38a524743f5c40996e       0   \n",
              "4  332732725863131279a8e345b63ac33e       4   \n",
              "\n",
              "                                         review_text  \\\n",
              "0  This is a special book. It started slow for ab...   \n",
              "1  Recommended by Don Katz. Avail for free in Dec...   \n",
              "2  A fun, fast paced science fiction thriller. I ...   \n",
              "3  Recommended reading to understand what is goin...   \n",
              "4  I really enjoyed this book, and there is a lot...   \n",
              "\n",
              "                       date_added                    date_updated  \\\n",
              "0  Sun Jul 30 07:44:10 -0700 2017  Wed Aug 30 00:00:26 -0700 2017   \n",
              "1  Mon Dec 05 10:46:44 -0800 2016  Wed Mar 22 11:37:04 -0700 2017   \n",
              "2  Tue Nov 15 11:29:22 -0800 2016  Mon Mar 20 23:40:27 -0700 2017   \n",
              "3  Wed Nov 09 17:37:04 -0800 2016  Wed Nov 09 17:38:20 -0800 2016   \n",
              "4  Mon Apr 25 09:31:23 -0700 2016  Mon Apr 25 09:31:23 -0700 2016   \n",
              "\n",
              "                          read_at                      started_at  n_votes  \\\n",
              "0  Sat Aug 26 12:05:52 -0700 2017  Tue Aug 15 13:23:18 -0700 2017       28   \n",
              "1                             NaN                             NaN        1   \n",
              "2  Sat Mar 18 23:22:42 -0700 2017  Fri Mar 17 23:45:40 -0700 2017       22   \n",
              "3                             NaN                             NaN        5   \n",
              "4  Sun Jun 26 00:00:00 -0700 2016  Sat May 28 00:00:00 -0700 2016        9   \n",
              "\n",
              "   n_comments  \n",
              "0           1  \n",
              "1           0  \n",
              "2           0  \n",
              "3           1  \n",
              "4           1  "
            ]
          },
          "execution_count": 6,
          "metadata": {},
          "output_type": "execute_result"
        }
      ],
      "source": [
        "train_data.head()"
      ]
    },
    {
      "cell_type": "markdown",
      "metadata": {
        "id": "X3IxOcz9pcOE"
      },
      "source": [
        "We also check the columns of the dataset."
      ]
    },
    {
      "cell_type": "code",
      "execution_count": null,
      "metadata": {
        "colab": {
          "base_uri": "https://localhost:8080/"
        },
        "id": "rn-ekogbpa6G",
        "outputId": "df944ab4-6380-4d02-d5a8-9f9cc673cf55"
      },
      "outputs": [
        {
          "data": {
            "text/plain": [
              "Index(['user_id', 'book_id', 'review_id', 'rating', 'review_text',\n",
              "       'date_added', 'date_updated', 'read_at', 'started_at', 'n_votes',\n",
              "       'n_comments'],\n",
              "      dtype='object')"
            ]
          },
          "execution_count": 7,
          "metadata": {},
          "output_type": "execute_result"
        }
      ],
      "source": [
        "train_data.columns"
      ]
    },
    {
      "cell_type": "markdown",
      "metadata": {
        "id": "Lpo7abIFpq8Y"
      },
      "source": [
        "Based on the columns and the dataset, we can safely assume that there are 2 types of data in the dataset: categorical data and the numerical data.\n",
        "\n",
        "* Numerical data columns are: `n_votes`, `n_comments`.\n",
        "* Categorical data columns are the remaining coumns: `rating`, `user_id`, `book_id`, `review_id`, `review_text`, `date_added`, `date_updated`, `read_at`, `started_at`\n"
      ]
    },
    {
      "cell_type": "markdown",
      "metadata": {
        "id": "f92AjaEljrmh"
      },
      "source": [
        "### 1. Initial Hypothesis"
      ]
    },
    {
      "cell_type": "markdown",
      "metadata": {
        "id": "1gk4qMQFUcDQ"
      },
      "source": [
        "#### a) Reviewing process"
      ]
    },
    {
      "cell_type": "markdown",
      "metadata": {
        "id": "ElLXaMf_NsiZ"
      },
      "source": [
        "We can start making some hypothesis after viewing the process to add a new review on GoodReads.\n",
        "1. Login in to GoodReads to make a review. Anonymous and guest cannot do reviews. (`user_id`)\n",
        "2. Access the book homepage. (`book_id`)\n",
        "3. Rate the book. The rating scale is 0-5 stars with the interval size 1. (`rating`)\n",
        "4. A \"Add a review\" modal is popped up. We can add our review here. (`review_text`)\n",
        "5. We can also add some optional information such as mark the review as spoilers, started read date (`started_date`) and ended read date.\n",
        "6. The review is added to the system (`review_id`) and the time the review is written is logged (`date_added`).\n",
        "7. Other readers can view these comments and can like (`n_votes`) for the comment if they found it was helpful. Moreover, they can comment to the review to discuss their opinions and ideas (`n_comments`).\n",
        "8. We can also update the review if we found it is unapproriate or out of date. The time we perform the update will be logged (`date_updated`).\n"
      ]
    },
    {
      "cell_type": "markdown",
      "metadata": {
        "id": "Axn5Bp6y10lA"
      },
      "source": [
        "#### b) Initiate hypothesis"
      ]
    },
    {
      "cell_type": "markdown",
      "metadata": {
        "id": "2XgJADiAkSHC"
      },
      "source": [
        "- Most importants features are `review_text`, `n_votes`, and `n_comments` which are all numerical columns:\n",
        "  + `n_votes` indicates how reputable the review is. People tends to upvote reviews that they find to be helpful rather than others. Therefore, <b>a higher `n_votes` value would lead to a more accuracy review.</b>\n",
        "  + When `n_comments` is high, it means there are 2 cases:\n",
        "    * The review is helpful and others comment to thank for the review.\n",
        "    * The review is debatable and others comment to share their opinions.\n",
        "    * => <b>High `n_votes` also means that the review's rating is accuracy.</b>\n",
        "\n",
        "\n",
        "- After looking at some sample data, we notice that there are some promotion reviews. Therefore, another task for us is to build a review classifier to determine whether a review is spam (use to 5-star a book) or not. (This is out-of-scope of this notebook)."
      ]
    },
    {
      "cell_type": "code",
      "execution_count": null,
      "metadata": {
        "id": "q9eUcwlXjwMn"
      },
      "outputs": [],
      "source": []
    },
    {
      "cell_type": "markdown",
      "metadata": {
        "id": "REb6cXIydSmh"
      },
      "source": [
        "### 2. Numerical features"
      ]
    },
    {
      "cell_type": "markdown",
      "metadata": {
        "id": "um3KZ-anl8s2"
      },
      "source": [
        "We can start by learning about the numerical features first. Let's look at some basic statistics."
      ]
    },
    {
      "cell_type": "code",
      "execution_count": null,
      "metadata": {
        "colab": {
          "base_uri": "https://localhost:8080/",
          "height": 300
        },
        "id": "FAPzk-2rVclP",
        "outputId": "90b4afe7-d75f-4d03-f37a-bcc2b2804e31"
      },
      "outputs": [
        {
          "data": {
            "text/html": [
              "<div>\n",
              "<style scoped>\n",
              "    .dataframe tbody tr th:only-of-type {\n",
              "        vertical-align: middle;\n",
              "    }\n",
              "\n",
              "    .dataframe tbody tr th {\n",
              "        vertical-align: top;\n",
              "    }\n",
              "\n",
              "    .dataframe thead th {\n",
              "        text-align: right;\n",
              "    }\n",
              "</style>\n",
              "<table border=\"1\" class=\"dataframe\">\n",
              "  <thead>\n",
              "    <tr style=\"text-align: right;\">\n",
              "      <th></th>\n",
              "      <th>n_votes</th>\n",
              "      <th>n_comments</th>\n",
              "    </tr>\n",
              "  </thead>\n",
              "  <tbody>\n",
              "    <tr>\n",
              "      <th>count</th>\n",
              "      <td>900000.000000</td>\n",
              "      <td>900000.000000</td>\n",
              "    </tr>\n",
              "    <tr>\n",
              "      <th>mean</th>\n",
              "      <td>3.294381</td>\n",
              "      <td>1.016656</td>\n",
              "    </tr>\n",
              "    <tr>\n",
              "      <th>std</th>\n",
              "      <td>17.873553</td>\n",
              "      <td>5.963821</td>\n",
              "    </tr>\n",
              "    <tr>\n",
              "      <th>min</th>\n",
              "      <td>-3.000000</td>\n",
              "      <td>-1.000000</td>\n",
              "    </tr>\n",
              "    <tr>\n",
              "      <th>25%</th>\n",
              "      <td>0.000000</td>\n",
              "      <td>0.000000</td>\n",
              "    </tr>\n",
              "    <tr>\n",
              "      <th>50%</th>\n",
              "      <td>0.000000</td>\n",
              "      <td>0.000000</td>\n",
              "    </tr>\n",
              "    <tr>\n",
              "      <th>75%</th>\n",
              "      <td>2.000000</td>\n",
              "      <td>0.000000</td>\n",
              "    </tr>\n",
              "    <tr>\n",
              "      <th>max</th>\n",
              "      <td>3222.000000</td>\n",
              "      <td>1335.000000</td>\n",
              "    </tr>\n",
              "  </tbody>\n",
              "</table>\n",
              "</div>"
            ],
            "text/plain": [
              "             n_votes     n_comments\n",
              "count  900000.000000  900000.000000\n",
              "mean        3.294381       1.016656\n",
              "std        17.873553       5.963821\n",
              "min        -3.000000      -1.000000\n",
              "25%         0.000000       0.000000\n",
              "50%         0.000000       0.000000\n",
              "75%         2.000000       0.000000\n",
              "max      3222.000000    1335.000000"
            ]
          },
          "execution_count": 8,
          "metadata": {},
          "output_type": "execute_result"
        }
      ],
      "source": [
        "train_data[[\"n_votes\", \"n_comments\"]].describe()"
      ]
    },
    {
      "cell_type": "markdown",
      "metadata": {
        "id": "op9zZVFgmLcF"
      },
      "source": [
        "The `describe` table showed us many notable information:\n",
        "* The `rating` column may be right-skewed as its Q3 is already the max rating (5.0 point or 5 stars)\n",
        "* `n_votes` and `n_comments` are heavily left-skewed.\n",
        "*  <b>ATTENTION</b>: `n_votes` 's min is -3, with is impossible. Goodreads does not have downvote feature.\n",
        "*  <b>ATTENTION</b>: `n_comments` 's min is -1, with is also impossible. \n"
      ]
    },
    {
      "cell_type": "markdown",
      "metadata": {
        "id": "qbQikwIWqEjv"
      },
      "source": [
        "We will plot boxplots of the numerical columns to verify the first 2 thoughts."
      ]
    },
    {
      "cell_type": "code",
      "execution_count": null,
      "metadata": {
        "colab": {
          "base_uri": "https://localhost:8080/",
          "height": 932
        },
        "id": "wiZN56ieNGsW",
        "outputId": "eb773c40-e30d-4b5b-d68b-ff58a0f1b259"
      },
      "outputs": [
        {
          "data": {
            "image/png": "[encoded data removed]",
            "text/plain": [
              "<Figure size 2000x1600 with 2 Axes>"
            ]
          },
          "metadata": {},
          "output_type": "display_data"
        }
      ],
      "source": [
        "fig, ax = plt.subplots(nrows=2, ncols=1, figsize=(20,16))\n",
        "sns.boxplot(data=train_data, x=\"n_votes\", ax=ax[0])\n",
        "sns.boxplot(data=train_data, x=\"n_comments\", ax=ax[1])\n",
        "plt.grid()"
      ]
    },
    {
      "cell_type": "markdown",
      "metadata": {
        "id": "7xFVviohlSnk"
      },
      "source": [
        "#### a) Rating"
      ]
    },
    {
      "cell_type": "markdown",
      "metadata": {
        "id": "ocjEEGfQnIQz"
      },
      "source": [
        "#### a) Number of votes"
      ]
    },
    {
      "cell_type": "markdown",
      "metadata": {
        "id": "mkD16kielpy_"
      },
      "source": [
        "Since there are so many outliers in `n_comments` and `n_votes`, we would zoom in the plots where most of the comments and votes are."
      ]
    },
    {
      "cell_type": "code",
      "execution_count": null,
      "metadata": {
        "colab": {
          "base_uri": "https://localhost:8080/",
          "height": 388
        },
        "id": "t1zqViU3jU7c",
        "outputId": "1b4648c1-dfd7-4a03-a843-5a2858f10955"
      },
      "outputs": [
        {
          "data": {
            "image/png": "[encoded data removed]",
            "text/plain": [
              "<Figure size 1000x600 with 1 Axes>"
            ]
          },
          "metadata": {},
          "output_type": "display_data"
        }
      ],
      "source": [
        "plt.figure(figsize=(10,6))\n",
        "ax1 = sns.boxplot(data=train_data, x=\"n_votes\")\n",
        "ax1.set(xlim=(-10,20))\n",
        "ax1.axvline(x=train_data[\"n_votes\"].median(), c='r')\n",
        "ax1.set_xticks(range(-10, 21))\n",
        "_ = ax1.set_xticklabels([str(label) for label in range(-10, 21)])\n",
        "plt.grid()"
      ]
    },
    {
      "cell_type": "markdown",
      "metadata": {
        "id": "sVeRDvKjQ1ve"
      },
      "source": [
        "This boxplot tells us that \n",
        "- Q1 and Q2 are coincident. (Red line indicates the data's median). Therefore, roughly 25% of the reviews has 0 votes.\n",
        "- There is quite an amount of reviews has negative votes.\n"
      ]
    },
    {
      "cell_type": "code",
      "execution_count": null,
      "metadata": {
        "colab": {
          "base_uri": "https://localhost:8080/",
          "height": 388
        },
        "id": "GGCBO-Q3gFJo",
        "outputId": "f5789cc4-2a4e-4b61-8a2e-99c3298f0e7a"
      },
      "outputs": [
        {
          "data": {
            "image/png": "[encoded data removed]",
            "text/plain": [
              "<Figure size 720x432 with 1 Axes>"
            ]
          },
          "metadata": {
            "needs_background": "light"
          },
          "output_type": "display_data"
        }
      ],
      "source": [
        "plt.figure(figsize=(10,6))\n",
        "ax1 = sns.histplot(x=train_data[\"n_votes\"][train_data[\"n_votes\"] < 21], bins=100)\n",
        "ax1.set(xlim=(-10,20))\n",
        "ax1.axvline(x=train_data[\"n_votes\"].median(), c='r')\n",
        "ax1.set_xticks(range(-10, 21))\n",
        "_ = ax1.set_xticklabels([str(label) for label in range(-10, 21)])"
      ]
    },
    {
      "cell_type": "markdown",
      "metadata": {
        "id": "bl9kFVyGg4i1"
      },
      "source": [
        "Removing the negative votes reviews will make the distribution more like the geometry distribution (This is a discrete numerical feature)."
      ]
    },
    {
      "cell_type": "code",
      "execution_count": null,
      "metadata": {
        "id": "2HB2Gy8_g2vm"
      },
      "outputs": [],
      "source": []
    },
    {
      "cell_type": "code",
      "execution_count": null,
      "metadata": {
        "colab": {
          "base_uri": "https://localhost:8080/",
          "height": 388
        },
        "id": "2gfR97HXkH3a",
        "outputId": "b9e2a472-6fdd-4915-df2d-c5b624c9db1d"
      },
      "outputs": [
        {
          "data": {
            "image/png": "[encoded data removed]",
            "text/plain": [
              "<Figure size 720x432 with 1 Axes>"
            ]
          },
          "metadata": {
            "needs_background": "light"
          },
          "output_type": "display_data"
        }
      ],
      "source": [
        "plt.figure(figsize=(10,6))\n",
        "ax1 = sns.boxplot(data=train_data, x=\"n_comments\")\n",
        "ax1.set(xlim=(-5,5))\n",
        "ax1.set_xticks(range(-5, 6))\n",
        "_ = ax1.set_xticklabels([str(label) for label in range(-5, 6)])"
      ]
    },
    {
      "cell_type": "code",
      "execution_count": null,
      "metadata": {
        "id": "YevZ0_JanIQ1",
        "outputId": "4b688de1-bac9-475e-fd99-30131f9505c5"
      },
      "outputs": [
        {
          "data": {
            "text/plain": [
              "<AxesSubplot:xlabel='n_votes', ylabel='n_comments'>"
            ]
          },
          "execution_count": 15,
          "metadata": {},
          "output_type": "execute_result"
        },
        {
          "data": {
            "image/png": "[encoded data removed]",
            "text/plain": [
              "<Figure size 2000x1600 with 1 Axes>"
            ]
          },
          "metadata": {},
          "output_type": "display_data"
        }
      ],
      "source": [
        "plt.figure(figsize=(20,16))\n",
        "sns.regplot(data=train_data,x=\"n_votes\", y=\"n_comments\", scatter_kws={\"alpha\":0.3})\n"
      ]
    },
    {
      "cell_type": "markdown",
      "metadata": {
        "id": "cKy4uCVpQ0Yo"
      },
      "source": []
    },
    {
      "cell_type": "markdown",
      "metadata": {
        "id": "i7jlUX5C45QY"
      },
      "source": [
        "`n_votes`'s median is somewhere"
      ]
    },
    {
      "cell_type": "markdown",
      "metadata": {
        "id": "hRbZws4qqawh"
      },
      "source": [
        "We can see that `n_votes` and `n_comments` have a lot of outliers. We may consider drop of those outliers or not. \n",
        "\n",
        "* Dropping outliers of `n_votes` is undesired, because highly upvotes reviews are likely to be more reputable than lower upvotes reviews, as other readers should find these reviews to be more helpful.\n",
        "\n",
        "* We must investigate whether should we drop `n_comments` outliers. We may think that the larger `n_comments` is, the more arguable and debatable the review is. Another hypothesis is, that review is a helpful one, which indicates in an enormous gratefully comments."
      ]
    },
    {
      "cell_type": "code",
      "execution_count": null,
      "metadata": {
        "colab": {
          "base_uri": "https://localhost:8080/",
          "height": 902
        },
        "id": "qkMEV_ZfOunO",
        "outputId": "3313f715-0ac9-43b0-d78e-babc5291bb8c"
      },
      "outputs": [
        {
          "data": {
            "text/html": [
              "\n",
              "  <div id=\"df-7b214fea-b6bb-4612-b179-e495c5b3c50c\">\n",
              "    <div class=\"colab-df-container\">\n",
              "      <div>\n",
              "<style scoped>\n",
              "    .dataframe tbody tr th:only-of-type {\n",
              "        vertical-align: middle;\n",
              "    }\n",
              "\n",
              "    .dataframe tbody tr th {\n",
              "        vertical-align: top;\n",
              "    }\n",
              "\n",
              "    .dataframe thead th {\n",
              "        text-align: right;\n",
              "    }\n",
              "</style>\n",
              "<table border=\"1\" class=\"dataframe\">\n",
              "  <thead>\n",
              "    <tr style=\"text-align: right;\">\n",
              "      <th></th>\n",
              "      <th>user_id</th>\n",
              "      <th>book_id</th>\n",
              "      <th>review_id</th>\n",
              "      <th>rating</th>\n",
              "      <th>review_text</th>\n",
              "      <th>date_added</th>\n",
              "      <th>date_updated</th>\n",
              "      <th>read_at</th>\n",
              "      <th>started_at</th>\n",
              "      <th>n_votes</th>\n",
              "      <th>n_comments</th>\n",
              "    </tr>\n",
              "  </thead>\n",
              "  <tbody>\n",
              "    <tr>\n",
              "      <th>13007</th>\n",
              "      <td>feafbae6a2cf100c84a712edd03e930d</td>\n",
              "      <td>1828067</td>\n",
              "      <td>aef92262bb2cda22247768affe7582b9</td>\n",
              "      <td>2</td>\n",
              "      <td>I haven't had much luck finding new, entertain...</td>\n",
              "      <td>Mon Aug 20 08:45:24 -0700 2012</td>\n",
              "      <td>Mon Aug 20 09:14:14 -0700 2012</td>\n",
              "      <td>Sat Aug 18 00:00:00 -0700 2012</td>\n",
              "      <td>Fri Aug 17 00:00:00 -0700 2012</td>\n",
              "      <td>7</td>\n",
              "      <td>-1</td>\n",
              "    </tr>\n",
              "    <tr>\n",
              "      <th>13045</th>\n",
              "      <td>feafbae6a2cf100c84a712edd03e930d</td>\n",
              "      <td>17645</td>\n",
              "      <td>29a5a6522bfc6496ec5a55efedcceef6</td>\n",
              "      <td>3</td>\n",
              "      <td>I finished rereading this and found it conside...</td>\n",
              "      <td>Thu Dec 04 15:29:13 -0800 2008</td>\n",
              "      <td>Sun Jul 26 19:29:33 -0700 2015</td>\n",
              "      <td>Wed Jul 04 00:00:00 -0700 2012</td>\n",
              "      <td>Wed Jul 04 00:00:00 -0700 2012</td>\n",
              "      <td>2</td>\n",
              "      <td>-1</td>\n",
              "    </tr>\n",
              "    <tr>\n",
              "      <th>157212</th>\n",
              "      <td>06e1a327fd336d7eee74aa62f1275386</td>\n",
              "      <td>12031532</td>\n",
              "      <td>c1a21535a8c1c180fc5296b47dbc9a78</td>\n",
              "      <td>3</td>\n",
              "      <td>Sometimes it hurts to give a book three stars....</td>\n",
              "      <td>Wed Nov 07 04:20:45 -0800 2012</td>\n",
              "      <td>Mon Nov 19 18:35:57 -0800 2012</td>\n",
              "      <td>Mon Nov 19 00:00:00 -0800 2012</td>\n",
              "      <td>Wed Nov 07 00:00:00 -0800 2012</td>\n",
              "      <td>4</td>\n",
              "      <td>-1</td>\n",
              "    </tr>\n",
              "    <tr>\n",
              "      <th>229164</th>\n",
              "      <td>b0ed09d14a462cb2d27327b87edf6f68</td>\n",
              "      <td>13049688</td>\n",
              "      <td>ea18fbf5e281ac1b2651afded38406d9</td>\n",
              "      <td>1</td>\n",
              "      <td>Not feeling this one. I don't mind dark, but t...</td>\n",
              "      <td>Wed Mar 27 12:52:09 -0700 2013</td>\n",
              "      <td>Fri Nov 25 08:50:17 -0800 2016</td>\n",
              "      <td>NaN</td>\n",
              "      <td>Wed Mar 27 00:00:00 -0700 2013</td>\n",
              "      <td>1</td>\n",
              "      <td>-1</td>\n",
              "    </tr>\n",
              "    <tr>\n",
              "      <th>570065</th>\n",
              "      <td>3687fcc87a9c2d733df8cfc43ae8dcfe</td>\n",
              "      <td>26860475</td>\n",
              "      <td>9235c340d5beef19271ba880c9db559b</td>\n",
              "      <td>4</td>\n",
              "      <td>The review is for Life and Death only. \\n 3.5/...</td>\n",
              "      <td>Tue Oct 06 16:01:41 -0700 2015</td>\n",
              "      <td>Sun Aug 20 10:41:24 -0700 2017</td>\n",
              "      <td>Fri Oct 09 00:00:00 -0700 2015</td>\n",
              "      <td>Tue Oct 06 00:00:00 -0700 2015</td>\n",
              "      <td>6</td>\n",
              "      <td>-1</td>\n",
              "    </tr>\n",
              "    <tr>\n",
              "      <th>622493</th>\n",
              "      <td>26b6d2e8d2c2e2f76a70a3359ba76c6a</td>\n",
              "      <td>17572903</td>\n",
              "      <td>bbcd01ffb27e53927825506ad3346ad5</td>\n",
              "      <td>4</td>\n",
              "      <td>My new historical fiction interest is WWI. \\n ...</td>\n",
              "      <td>Wed Jul 31 16:46:13 -0700 2013</td>\n",
              "      <td>Tue Feb 11 20:31:08 -0800 2014</td>\n",
              "      <td>Wed Jul 31 00:00:00 -0700 2013</td>\n",
              "      <td>NaN</td>\n",
              "      <td>9</td>\n",
              "      <td>-1</td>\n",
              "    </tr>\n",
              "    <tr>\n",
              "      <th>796721</th>\n",
              "      <td>f2caf50868a530b15ecbb9b3273837e7</td>\n",
              "      <td>13163011</td>\n",
              "      <td>5c237482cc755b72364778bc85b59ce2</td>\n",
              "      <td>3</td>\n",
              "      <td>Enjoyed this more than the first in that the s...</td>\n",
              "      <td>Thu Aug 16 13:45:54 -0700 2012</td>\n",
              "      <td>Mon Aug 20 12:44:08 -0700 2012</td>\n",
              "      <td>Mon Aug 20 12:44:08 -0700 2012</td>\n",
              "      <td>Thu Aug 16 00:00:00 -0700 2012</td>\n",
              "      <td>1</td>\n",
              "      <td>-1</td>\n",
              "    </tr>\n",
              "    <tr>\n",
              "      <th>796728</th>\n",
              "      <td>f2caf50868a530b15ecbb9b3273837e7</td>\n",
              "      <td>4912857</td>\n",
              "      <td>aa057f840d2b35d8551c870299e71fc2</td>\n",
              "      <td>4</td>\n",
              "      <td>Sometimes when I REALLY enjoy a book, I have t...</td>\n",
              "      <td>Thu Jun 28 10:55:02 -0700 2012</td>\n",
              "      <td>Thu Jul 26 09:06:06 -0700 2012</td>\n",
              "      <td>Wed Jul 11 00:00:00 -0700 2012</td>\n",
              "      <td>Thu Jun 28 00:00:00 -0700 2012</td>\n",
              "      <td>0</td>\n",
              "      <td>-1</td>\n",
              "    </tr>\n",
              "  </tbody>\n",
              "</table>\n",
              "</div>\n",
              "      <button class=\"colab-df-convert\" onclick=\"convertToInteractive('df-7b214fea-b6bb-4612-b179-e495c5b3c50c')\"\n",
              "              title=\"Convert this dataframe to an interactive table.\"\n",
              "              style=\"display:none;\">\n",
              "        \n",
              "  <svg xmlns=\"http://www.w3.org/2000/svg\" height=\"24px\"viewBox=\"0 0 24 24\"\n",
              "       width=\"24px\">\n",
              "    <path d=\"M0 0h24v24H0V0z\" fill=\"none\"/>\n",
              "    <path d=\"M18.56 5.44l.94 2.06.94-2.06 2.06-.94-2.06-.94-.94-2.06-.94 2.06-2.06.94zm-11 1L8.5 8.5l.94-2.06 2.06-.94-2.06-.94L8.5 2.5l-.94 2.06-2.06.94zm10 10l.94 2.06.94-2.06 2.06-.94-2.06-.94-.94-2.06-.94 2.06-2.06.94z\"/><path d=\"M17.41 7.96l-1.37-1.37c-.4-.4-.92-.59-1.43-.59-.52 0-1.04.2-1.43.59L10.3 9.45l-7.72 7.72c-.78.78-.78 2.05 0 2.83L4 21.41c.39.39.9.59 1.41.59.51 0 1.02-.2 1.41-.59l7.78-7.78 2.81-2.81c.8-.78.8-2.07 0-2.86zM5.41 20L4 18.59l7.72-7.72 1.47 1.35L5.41 20z\"/>\n",
              "  </svg>\n",
              "      </button>\n",
              "      \n",
              "  <style>\n",
              "    .colab-df-container {\n",
              "      display:flex;\n",
              "      flex-wrap:wrap;\n",
              "      gap: 12px;\n",
              "    }\n",
              "\n",
              "    .colab-df-convert {\n",
              "      background-color: #E8F0FE;\n",
              "      border: none;\n",
              "      border-radius: 50%;\n",
              "      cursor: pointer;\n",
              "      display: none;\n",
              "      fill: #1967D2;\n",
              "      height: 32px;\n",
              "      padding: 0 0 0 0;\n",
              "      width: 32px;\n",
              "    }\n",
              "\n",
              "    .colab-df-convert:hover {\n",
              "      background-color: #E2EBFA;\n",
              "      box-shadow: 0px 1px 2px rgba(60, 64, 67, 0.3), 0px 1px 3px 1px rgba(60, 64, 67, 0.15);\n",
              "      fill: #174EA6;\n",
              "    }\n",
              "\n",
              "    [theme=dark] .colab-df-convert {\n",
              "      background-color: #3B4455;\n",
              "      fill: #D2E3FC;\n",
              "    }\n",
              "\n",
              "    [theme=dark] .colab-df-convert:hover {\n",
              "      background-color: #434B5C;\n",
              "      box-shadow: 0px 1px 3px 1px rgba(0, 0, 0, 0.15);\n",
              "      filter: drop-shadow(0px 1px 2px rgba(0, 0, 0, 0.3));\n",
              "      fill: #FFFFFF;\n",
              "    }\n",
              "  </style>\n",
              "\n",
              "      <script>\n",
              "        const buttonEl =\n",
              "          document.querySelector('#df-7b214fea-b6bb-4612-b179-e495c5b3c50c button.colab-df-convert');\n",
              "        buttonEl.style.display =\n",
              "          google.colab.kernel.accessAllowed ? 'block' : 'none';\n",
              "\n",
              "        async function convertToInteractive(key) {\n",
              "          const element = document.querySelector('#df-7b214fea-b6bb-4612-b179-e495c5b3c50c');\n",
              "          const dataTable =\n",
              "            await google.colab.kernel.invokeFunction('convertToInteractive',\n",
              "                                                     [key], {});\n",
              "          if (!dataTable) return;\n",
              "\n",
              "          const docLinkHtml = 'Like what you see? Visit the ' +\n",
              "            '<a target=\"_blank\" href=https://colab.research.google.com/notebooks/data_table.ipynb>data table notebook</a>'\n",
              "            + ' to learn more about interactive tables.';\n",
              "          element.innerHTML = '';\n",
              "          dataTable['output_type'] = 'display_data';\n",
              "          await google.colab.output.renderOutput(dataTable, element);\n",
              "          const docLink = document.createElement('div');\n",
              "          docLink.innerHTML = docLinkHtml;\n",
              "          element.appendChild(docLink);\n",
              "        }\n",
              "      </script>\n",
              "    </div>\n",
              "  </div>\n",
              "  "
            ],
            "text/plain": [
              "                                 user_id   book_id  \\\n",
              "13007   feafbae6a2cf100c84a712edd03e930d   1828067   \n",
              "13045   feafbae6a2cf100c84a712edd03e930d     17645   \n",
              "157212  06e1a327fd336d7eee74aa62f1275386  12031532   \n",
              "229164  b0ed09d14a462cb2d27327b87edf6f68  13049688   \n",
              "570065  3687fcc87a9c2d733df8cfc43ae8dcfe  26860475   \n",
              "622493  26b6d2e8d2c2e2f76a70a3359ba76c6a  17572903   \n",
              "796721  f2caf50868a530b15ecbb9b3273837e7  13163011   \n",
              "796728  f2caf50868a530b15ecbb9b3273837e7   4912857   \n",
              "\n",
              "                               review_id  rating  \\\n",
              "13007   aef92262bb2cda22247768affe7582b9       2   \n",
              "13045   29a5a6522bfc6496ec5a55efedcceef6       3   \n",
              "157212  c1a21535a8c1c180fc5296b47dbc9a78       3   \n",
              "229164  ea18fbf5e281ac1b2651afded38406d9       1   \n",
              "570065  9235c340d5beef19271ba880c9db559b       4   \n",
              "622493  bbcd01ffb27e53927825506ad3346ad5       4   \n",
              "796721  5c237482cc755b72364778bc85b59ce2       3   \n",
              "796728  aa057f840d2b35d8551c870299e71fc2       4   \n",
              "\n",
              "                                              review_text  \\\n",
              "13007   I haven't had much luck finding new, entertain...   \n",
              "13045   I finished rereading this and found it conside...   \n",
              "157212  Sometimes it hurts to give a book three stars....   \n",
              "229164  Not feeling this one. I don't mind dark, but t...   \n",
              "570065  The review is for Life and Death only. \\n 3.5/...   \n",
              "622493  My new historical fiction interest is WWI. \\n ...   \n",
              "796721  Enjoyed this more than the first in that the s...   \n",
              "796728  Sometimes when I REALLY enjoy a book, I have t...   \n",
              "\n",
              "                            date_added                    date_updated  \\\n",
              "13007   Mon Aug 20 08:45:24 -0700 2012  Mon Aug 20 09:14:14 -0700 2012   \n",
              "13045   Thu Dec 04 15:29:13 -0800 2008  Sun Jul 26 19:29:33 -0700 2015   \n",
              "157212  Wed Nov 07 04:20:45 -0800 2012  Mon Nov 19 18:35:57 -0800 2012   \n",
              "229164  Wed Mar 27 12:52:09 -0700 2013  Fri Nov 25 08:50:17 -0800 2016   \n",
              "570065  Tue Oct 06 16:01:41 -0700 2015  Sun Aug 20 10:41:24 -0700 2017   \n",
              "622493  Wed Jul 31 16:46:13 -0700 2013  Tue Feb 11 20:31:08 -0800 2014   \n",
              "796721  Thu Aug 16 13:45:54 -0700 2012  Mon Aug 20 12:44:08 -0700 2012   \n",
              "796728  Thu Jun 28 10:55:02 -0700 2012  Thu Jul 26 09:06:06 -0700 2012   \n",
              "\n",
              "                               read_at                      started_at  \\\n",
              "13007   Sat Aug 18 00:00:00 -0700 2012  Fri Aug 17 00:00:00 -0700 2012   \n",
              "13045   Wed Jul 04 00:00:00 -0700 2012  Wed Jul 04 00:00:00 -0700 2012   \n",
              "157212  Mon Nov 19 00:00:00 -0800 2012  Wed Nov 07 00:00:00 -0800 2012   \n",
              "229164                             NaN  Wed Mar 27 00:00:00 -0700 2013   \n",
              "570065  Fri Oct 09 00:00:00 -0700 2015  Tue Oct 06 00:00:00 -0700 2015   \n",
              "622493  Wed Jul 31 00:00:00 -0700 2013                             NaN   \n",
              "796721  Mon Aug 20 12:44:08 -0700 2012  Thu Aug 16 00:00:00 -0700 2012   \n",
              "796728  Wed Jul 11 00:00:00 -0700 2012  Thu Jun 28 00:00:00 -0700 2012   \n",
              "\n",
              "        n_votes  n_comments  \n",
              "13007         7          -1  \n",
              "13045         2          -1  \n",
              "157212        4          -1  \n",
              "229164        1          -1  \n",
              "570065        6          -1  \n",
              "622493        9          -1  \n",
              "796721        1          -1  \n",
              "796728        0          -1  "
            ]
          },
          "execution_count": 17,
          "metadata": {},
          "output_type": "execute_result"
        }
      ],
      "source": [
        "train_data[train_data[\"n_comments\"] < 0]"
      ]
    },
    {
      "cell_type": "code",
      "execution_count": null,
      "metadata": {
        "id": "lF0zT_ConIQ2"
      },
      "outputs": [],
      "source": []
    },
    {
      "cell_type": "markdown",
      "metadata": {
        "id": "tRBfFDmhnIQ2"
      },
      "source": [
        "#### a) Rating"
      ]
    },
    {
      "cell_type": "code",
      "execution_count": null,
      "metadata": {
        "colab": {
          "base_uri": "https://localhost:8080/",
          "height": 388
        },
        "id": "7BztywlBhQgQ",
        "outputId": "b1f831c0-e650-49b0-b927-38e0b1c4c233"
      },
      "outputs": [
        {
          "data": {
            "image/png": "[encoded data removed]",
            "text/plain": [
              "<Figure size 1000x600 with 1 Axes>"
            ]
          },
          "metadata": {},
          "output_type": "display_data"
        }
      ],
      "source": [
        "plt.figure(figsize=(10,6))\n",
        "ax1 = sns.histplot(data=train_data, x=\"rating\")"
      ]
    },
    {
      "cell_type": "markdown",
      "metadata": {
        "id": "GGDaJ-1XnIQ3"
      },
      "source": [
        "The rating distribution in our dataset is not nearly uniform. In fact, it is right-skewed (most reviews are rated 4-5 stars). Since we are using review text to predict the ratings, this can impact our model to be likely to predict 4-5 stars than 0-2 stars.\n",
        "\n",
        "One solution for this is to use Stratified Sampling based on rating.\n"
      ]
    },
    {
      "cell_type": "code",
      "execution_count": null,
      "metadata": {
        "id": "SMVPnAuRY1lF"
      },
      "outputs": [],
      "source": [
        "dtypes = {\"review_id\": str, \"review_text\": str, \"n_votes\": np.int8, \"n_comments\" : np.int8, \"rating\":np.int8}"
      ]
    },
    {
      "cell_type": "code",
      "execution_count": null,
      "metadata": {
        "id": "kHPu97CcYcW6"
      },
      "outputs": [],
      "source": [
        "train_data = pd.read_csv(os.path.join(train_path, \"goodreads_train.csv\"), usecols=[\"review_id\", \"review_text\", \"n_votes\", \"n_comments\", \"rating\"],dtype=dtypes)"
      ]
    },
    {
      "cell_type": "code",
      "execution_count": 12,
      "metadata": {
        "id": "pP4efc30PHrI"
      },
      "outputs": [],
      "source": [
        "train_pos = train_data[(train_data[\"n_votes\"] >= 0) & (train_data[\"n_comments\"] >= 0)]"
      ]
    },
    {
      "cell_type": "code",
      "execution_count": null,
      "metadata": {
        "id": "a5-PBsm3ZoTF"
      },
      "outputs": [],
      "source": [
        "del(train_data)"
      ]
    },
    {
      "cell_type": "code",
      "execution_count": null,
      "metadata": {
        "colab": {
          "base_uri": "https://localhost:8080/",
          "height": 300
        },
        "id": "ieFcXVzPqEla",
        "outputId": "21ea39ce-77cb-4a09-9d04-49bf99a2c1f9"
      },
      "outputs": [
        {
          "data": {
            "text/html": [
              "<div>\n",
              "<style scoped>\n",
              "    .dataframe tbody tr th:only-of-type {\n",
              "        vertical-align: middle;\n",
              "    }\n",
              "\n",
              "    .dataframe tbody tr th {\n",
              "        vertical-align: top;\n",
              "    }\n",
              "\n",
              "    .dataframe thead th {\n",
              "        text-align: right;\n",
              "    }\n",
              "</style>\n",
              "<table border=\"1\" class=\"dataframe\">\n",
              "  <thead>\n",
              "    <tr style=\"text-align: right;\">\n",
              "      <th></th>\n",
              "      <th>book_id</th>\n",
              "      <th>rating</th>\n",
              "      <th>n_votes</th>\n",
              "      <th>n_comments</th>\n",
              "    </tr>\n",
              "  </thead>\n",
              "  <tbody>\n",
              "    <tr>\n",
              "      <th>count</th>\n",
              "      <td>8.999460e+05</td>\n",
              "      <td>899946.000000</td>\n",
              "      <td>899946.000000</td>\n",
              "      <td>899946.000000</td>\n",
              "    </tr>\n",
              "    <tr>\n",
              "      <th>mean</th>\n",
              "      <td>1.344156e+07</td>\n",
              "      <td>3.689627</td>\n",
              "      <td>3.294608</td>\n",
              "      <td>1.016699</td>\n",
              "    </tr>\n",
              "    <tr>\n",
              "      <th>std</th>\n",
              "      <td>9.357928e+06</td>\n",
              "      <td>1.252577</td>\n",
              "      <td>17.874058</td>\n",
              "      <td>5.963990</td>\n",
              "    </tr>\n",
              "    <tr>\n",
              "      <th>min</th>\n",
              "      <td>1.000000e+00</td>\n",
              "      <td>0.000000</td>\n",
              "      <td>0.000000</td>\n",
              "      <td>0.000000</td>\n",
              "    </tr>\n",
              "    <tr>\n",
              "      <th>25%</th>\n",
              "      <td>6.340471e+06</td>\n",
              "      <td>3.000000</td>\n",
              "      <td>0.000000</td>\n",
              "      <td>0.000000</td>\n",
              "    </tr>\n",
              "    <tr>\n",
              "      <th>50%</th>\n",
              "      <td>1.344502e+07</td>\n",
              "      <td>4.000000</td>\n",
              "      <td>0.000000</td>\n",
              "      <td>0.000000</td>\n",
              "    </tr>\n",
              "    <tr>\n",
              "      <th>75%</th>\n",
              "      <td>2.057897e+07</td>\n",
              "      <td>5.000000</td>\n",
              "      <td>2.000000</td>\n",
              "      <td>0.000000</td>\n",
              "    </tr>\n",
              "    <tr>\n",
              "      <th>max</th>\n",
              "      <td>3.632868e+07</td>\n",
              "      <td>5.000000</td>\n",
              "      <td>3222.000000</td>\n",
              "      <td>1335.000000</td>\n",
              "    </tr>\n",
              "  </tbody>\n",
              "</table>\n",
              "</div>"
            ],
            "text/plain": [
              "            book_id         rating        n_votes     n_comments\n",
              "count  8.999460e+05  899946.000000  899946.000000  899946.000000\n",
              "mean   1.344156e+07       3.689627       3.294608       1.016699\n",
              "std    9.357928e+06       1.252577      17.874058       5.963990\n",
              "min    1.000000e+00       0.000000       0.000000       0.000000\n",
              "25%    6.340471e+06       3.000000       0.000000       0.000000\n",
              "50%    1.344502e+07       4.000000       0.000000       0.000000\n",
              "75%    2.057897e+07       5.000000       2.000000       0.000000\n",
              "max    3.632868e+07       5.000000    3222.000000    1335.000000"
            ]
          },
          "execution_count": 17,
          "metadata": {},
          "output_type": "execute_result"
        }
      ],
      "source": [
        "train_pos.describe()"
      ]
    },
    {
      "cell_type": "code",
      "execution_count": 13,
      "metadata": {
        "id": "gmJ4XNnkodCY"
      },
      "outputs": [],
      "source": [
        "from sklearn.model_selection import StratifiedShuffleSplit\n",
        "\n",
        "sss = StratifiedShuffleSplit(n_splits=5, random_state=42, test_size=0.9)"
      ]
    },
    {
      "cell_type": "code",
      "execution_count": 14,
      "metadata": {
        "id": "JeaV_6BdrF05"
      },
      "outputs": [],
      "source": [
        "for train_index, test_index in sss.split(train_pos.drop(\"rating\", axis=1), train_pos[\"rating\"]):\n",
        "  df_train, df_test = train_pos.iloc[train_index], train_pos.iloc[test_index]\n"
      ]
    },
    {
      "cell_type": "code",
      "execution_count": 15,
      "metadata": {
        "colab": {
          "base_uri": "https://localhost:8080/",
          "height": 388
        },
        "id": "eJTsEHNDnIQ5",
        "outputId": "fe29d241-3c86-4ffc-e9ef-41f4454845f9"
      },
      "outputs": [
        {
          "output_type": "display_data",
          "data": {
            "text/plain": [
              "<Figure size 720x432 with 1 Axes>"
            ],
            "image/png": "[encoded data removed]"
          },
          "metadata": {
            "needs_background": "light"
          }
        }
      ],
      "source": [
        "plt.figure(figsize=(10,6))\n",
        "ax1 = sns.histplot(data=df_train, x=\"rating\")"
      ]
    },
    {
      "cell_type": "code",
      "execution_count": 16,
      "metadata": {
        "id": "QJTON_zvqE7x"
      },
      "outputs": [],
      "source": [
        "from fastai.text.all import *"
      ]
    },
    {
      "cell_type": "code",
      "execution_count": 17,
      "metadata": {
        "colab": {
          "base_uri": "https://localhost:8080/",
          "height": 491
        },
        "id": "Wvrzuud2qdkR",
        "outputId": "36a0d5a3-de62-44d7-8499-9f47d42187bc"
      },
      "outputs": [
        {
          "output_type": "display_data",
          "data": {
            "text/plain": [
              "<IPython.core.display.HTML object>"
            ],
            "text/html": [
              "\n",
              "<style>\n",
              "    /* Turns off some styling */\n",
              "    progress {\n",
              "        /* gets rid of default border in Firefox and Opera. */\n",
              "        border: none;\n",
              "        /* Needs to be in here for Safari polyfill so background images work as expected. */\n",
              "        background-size: auto;\n",
              "    }\n",
              "    progress:not([value]), progress:not([value])::-webkit-progress-bar {\n",
              "        background: repeating-linear-gradient(45deg, #7e7e7e, #7e7e7e 10px, #5c5c5c 10px, #5c5c5c 20px);\n",
              "    }\n",
              "    .progress-bar-interrupted, .progress-bar-interrupted::-webkit-progress-bar {\n",
              "        background: #F44336;\n",
              "    }\n",
              "</style>\n"
            ]
          },
          "metadata": {}
        },
        {
          "output_type": "display_data",
          "data": {
            "text/plain": [
              "<IPython.core.display.HTML object>"
            ],
            "text/html": []
          },
          "metadata": {}
        },
        {
          "output_type": "display_data",
          "data": {
            "text/plain": [
              "<IPython.core.display.HTML object>"
            ],
            "text/html": [
              "<table border=\"1\" class=\"dataframe\">\n",
              "  <thead>\n",
              "    <tr style=\"text-align: right;\">\n",
              "      <th></th>\n",
              "      <th>text</th>\n",
              "      <th>category</th>\n",
              "    </tr>\n",
              "  </thead>\n",
              "  <tbody>\n",
              "    <tr>\n",
              "      <th>0</th>\n",
              "      <td>xxbos h xxrep 5 o ly shit , what was xxup that . \\n▁ i thought xxmaj i 'd be able to write something , but i ca n't . xxmaj it 's gon na need another reread , and a long think . \\n▁ xxmaj suffice it to say you need to pick this up , and you absolutely have no idea what you 're getting yourself into when you do . \\n▁ -- \\n▁ i do n't know how to comment on the book any further unless i take notes while i go , which is pretty much how i use xxmaj goodreads half the time anyway . i feel a little bad about it this time around because xxmaj wrenchies is so new , so as much as it feels xxunk silly xxmaj i 'll bracket off my notes as spoilers . xxmaj lame . \\n▁ (</td>\n",
              "      <td>5</td>\n",
              "    </tr>\n",
              "    <tr>\n",
              "      <th>1</th>\n",
              "      <td>xxbos xxmaj short and xxmaj sweet xxmaj version \\n▁ xxmaj an epic romance on par with xxmaj gone xxmaj with the xxmaj wind that features a feisty female lead . xxmaj it made for a great discussion in my book club since it brought up social and women 's issues . xxmaj the western setting and the journal - style story telling made it an unforgettable read . \\n▁ xxmaj jessica xxmaj thinks xxmaj too xxmaj much xxmaj version \\n▁ ( view spoiler ) [ \\n▁ xxmaj these is xxmaj my xxmaj words is an epic western romance starring a wonderful and strong female lead named xxmaj sarah . xxmaj she reminded me a lot of xxmaj scarlett o'hara from xxmaj gone with the xxmaj wind . xxmaj but i have to say as much as i like xxmaj scarlett , i think xxmaj sarah has a few things that</td>\n",
              "      <td>5</td>\n",
              "    </tr>\n",
              "    <tr>\n",
              "      <th>2</th>\n",
              "      <td>xxbos { this review originally appeared on xxmaj clear xxmaj eyes , xxmaj full xxmaj shelves . } \\n▁ … she realized she wanted more . xxmaj not a husband or a bunch of kids burping on her clothes … but a life . a real one . a chance to figure out who she was … \\n▁ xxmaj when i read that xxmaj molly o'keefe 's main character in xxmaj ca n't xxmaj buy xxmaj me xxmaj love was inspired by xxmaj tyra xxmaj collette from xxmaj friday xxmaj night xxmaj lights ( \" tyra times 10 \" is how she referred to her ) , i immediately set aside my deeply - held philosophical objection to images of creepy waxed man chests * to check out her take on one of my favorite fictional characters . xxmaj what i found in xxmaj ca n't xxmaj buy xxmaj me</td>\n",
              "      <td>4</td>\n",
              "    </tr>\n",
              "  </tbody>\n",
              "</table>"
            ]
          },
          "metadata": {}
        }
      ],
      "source": [
        "dls = TextDataLoaders.from_df(df=df_train, text_col=\"review_text\", label_col=\"rating\")\n",
        "dls.show_batch(max_n=3)"
      ]
    },
    {
      "cell_type": "code",
      "source": [
        "dls.categorize.vocab.map_objs([0,1,2,3,4,5])"
      ],
      "metadata": {
        "colab": {
          "base_uri": "https://localhost:8080/"
        },
        "id": "j9JpWpg00Ua2",
        "outputId": "980a263d-841a-41ed-9892-6dc1fad0896d"
      },
      "execution_count": 33,
      "outputs": [
        {
          "output_type": "execute_result",
          "data": {
            "text/plain": [
              "(#6) [0,1,2,3,4,5]"
            ]
          },
          "metadata": {},
          "execution_count": 33
        }
      ]
    },
    {
      "cell_type": "code",
      "source": [],
      "metadata": {
        "id": "OWCyLFyHqBMA"
      },
      "execution_count": null,
      "outputs": []
    },
    {
      "cell_type": "code",
      "execution_count": 36,
      "metadata": {
        "id": "wzyKTNSVaUDC"
      },
      "outputs": [],
      "source": [
        "learn = text_classifier_learner(dls, AWD_LSTM, metrics=F1Score(average=\"macro\"))"
      ]
    },
    {
      "cell_type": "code",
      "execution_count": 37,
      "metadata": {
        "colab": {
          "base_uri": "https://localhost:8080/",
          "height": 725
        },
        "id": "ASLoiSs7a1sv",
        "outputId": "a4da3708-42a2-4948-ec3a-519f6c744f7c"
      },
      "outputs": [
        {
          "data": {
            "text/html": [
              "\n",
              "<style>\n",
              "    /* Turns off some styling */\n",
              "    progress {\n",
              "        /* gets rid of default border in Firefox and Opera. */\n",
              "        border: none;\n",
              "        /* Needs to be in here for Safari polyfill so background images work as expected. */\n",
              "        background-size: auto;\n",
              "    }\n",
              "    progress:not([value]), progress:not([value])::-webkit-progress-bar {\n",
              "        background: repeating-linear-gradient(45deg, #7e7e7e, #7e7e7e 10px, #5c5c5c 10px, #5c5c5c 20px);\n",
              "    }\n",
              "    .progress-bar-interrupted, .progress-bar-interrupted::-webkit-progress-bar {\n",
              "        background: #F44336;\n",
              "    }\n",
              "</style>\n"
            ],
            "text/plain": [
              "<IPython.core.display.HTML object>"
            ]
          },
          "metadata": {},
          "output_type": "display_data"
        },
        {
          "data": {
            "text/html": [
              "<table border=\"1\" class=\"dataframe\">\n",
              "  <thead>\n",
              "    <tr style=\"text-align: left;\">\n",
              "      <th>epoch</th>\n",
              "      <th>train_loss</th>\n",
              "      <th>valid_loss</th>\n",
              "      <th>f1_score</th>\n",
              "      <th>time</th>\n",
              "    </tr>\n",
              "  </thead>\n",
              "  <tbody>\n",
              "    <tr>\n",
              "      <td>0</td>\n",
              "      <td>1.315788</td>\n",
              "      <td>1.283949</td>\n",
              "      <td>0.280496</td>\n",
              "      <td>05:26</td>\n",
              "    </tr>\n",
              "  </tbody>\n",
              "</table>"
            ],
            "text/plain": [
              "<IPython.core.display.HTML object>"
            ]
          },
          "metadata": {},
          "output_type": "display_data"
        },
        {
          "data": {
            "text/html": [
              "\n",
              "<style>\n",
              "    /* Turns off some styling */\n",
              "    progress {\n",
              "        /* gets rid of default border in Firefox and Opera. */\n",
              "        border: none;\n",
              "        /* Needs to be in here for Safari polyfill so background images work as expected. */\n",
              "        background-size: auto;\n",
              "    }\n",
              "    progress:not([value]), progress:not([value])::-webkit-progress-bar {\n",
              "        background: repeating-linear-gradient(45deg, #7e7e7e, #7e7e7e 10px, #5c5c5c 10px, #5c5c5c 20px);\n",
              "    }\n",
              "    .progress-bar-interrupted, .progress-bar-interrupted::-webkit-progress-bar {\n",
              "        background: #F44336;\n",
              "    }\n",
              "</style>\n"
            ],
            "text/plain": [
              "<IPython.core.display.HTML object>"
            ]
          },
          "metadata": {},
          "output_type": "display_data"
        },
        {
          "data": {
            "text/html": [
              "\n",
              "    <div>\n",
              "      <progress value='7' class='' max='10' style='width:300px; height:20px; vertical-align: middle;'></progress>\n",
              "      70.00% [7/10 1:33:23&lt;40:01]\n",
              "    </div>\n",
              "    \n",
              "<table border=\"1\" class=\"dataframe\">\n",
              "  <thead>\n",
              "    <tr style=\"text-align: left;\">\n",
              "      <th>epoch</th>\n",
              "      <th>train_loss</th>\n",
              "      <th>valid_loss</th>\n",
              "      <th>f1_score</th>\n",
              "      <th>time</th>\n",
              "    </tr>\n",
              "  </thead>\n",
              "  <tbody>\n",
              "    <tr>\n",
              "      <td>0</td>\n",
              "      <td>1.232067</td>\n",
              "      <td>1.173887</td>\n",
              "      <td>0.377433</td>\n",
              "      <td>13:21</td>\n",
              "    </tr>\n",
              "    <tr>\n",
              "      <td>1</td>\n",
              "      <td>1.172466</td>\n",
              "      <td>1.127500</td>\n",
              "      <td>0.413495</td>\n",
              "      <td>13:21</td>\n",
              "    </tr>\n",
              "    <tr>\n",
              "      <td>2</td>\n",
              "      <td>1.098540</td>\n",
              "      <td>1.078235</td>\n",
              "      <td>0.436635</td>\n",
              "      <td>13:20</td>\n",
              "    </tr>\n",
              "    <tr>\n",
              "      <td>3</td>\n",
              "      <td>1.065581</td>\n",
              "      <td>1.037366</td>\n",
              "      <td>0.445887</td>\n",
              "      <td>13:21</td>\n",
              "    </tr>\n",
              "    <tr>\n",
              "      <td>4</td>\n",
              "      <td>1.003647</td>\n",
              "      <td>1.019784</td>\n",
              "      <td>0.454622</td>\n",
              "      <td>13:19</td>\n",
              "    </tr>\n",
              "    <tr>\n",
              "      <td>5</td>\n",
              "      <td>0.956027</td>\n",
              "      <td>1.005440</td>\n",
              "      <td>0.476139</td>\n",
              "      <td>13:19</td>\n",
              "    </tr>\n",
              "    <tr>\n",
              "      <td>6</td>\n",
              "      <td>0.965376</td>\n",
              "      <td>0.998689</td>\n",
              "      <td>0.490640</td>\n",
              "      <td>13:19</td>\n",
              "    </tr>\n",
              "  </tbody>\n",
              "</table><p>\n",
              "\n",
              "    <div>\n",
              "      <progress value='64' class='' max='1124' style='width:300px; height:20px; vertical-align: middle;'></progress>\n",
              "      5.69% [64/1124 00:42&lt;11:41 0.9304]\n",
              "    </div>\n",
              "    "
            ],
            "text/plain": [
              "<IPython.core.display.HTML object>"
            ]
          },
          "metadata": {},
          "output_type": "display_data"
        },
        {
          "output_type": "display_data",
          "data": {
            "text/plain": [
              "<IPython.core.display.HTML object>"
            ],
            "text/html": [
              "<table border=\"1\" class=\"dataframe\">\n",
              "  <thead>\n",
              "    <tr style=\"text-align: left;\">\n",
              "      <th>epoch</th>\n",
              "      <th>train_loss</th>\n",
              "      <th>valid_loss</th>\n",
              "      <th>f1_score</th>\n",
              "      <th>time</th>\n",
              "    </tr>\n",
              "  </thead>\n",
              "  <tbody>\n",
              "    <tr>\n",
              "      <td>0</td>\n",
              "      <td>1.232067</td>\n",
              "      <td>1.173887</td>\n",
              "      <td>0.377433</td>\n",
              "      <td>13:21</td>\n",
              "    </tr>\n",
              "    <tr>\n",
              "      <td>1</td>\n",
              "      <td>1.172466</td>\n",
              "      <td>1.127500</td>\n",
              "      <td>0.413495</td>\n",
              "      <td>13:21</td>\n",
              "    </tr>\n",
              "    <tr>\n",
              "      <td>2</td>\n",
              "      <td>1.098540</td>\n",
              "      <td>1.078235</td>\n",
              "      <td>0.436635</td>\n",
              "      <td>13:20</td>\n",
              "    </tr>\n",
              "    <tr>\n",
              "      <td>3</td>\n",
              "      <td>1.065581</td>\n",
              "      <td>1.037366</td>\n",
              "      <td>0.445887</td>\n",
              "      <td>13:21</td>\n",
              "    </tr>\n",
              "    <tr>\n",
              "      <td>4</td>\n",
              "      <td>1.003647</td>\n",
              "      <td>1.019784</td>\n",
              "      <td>0.454622</td>\n",
              "      <td>13:19</td>\n",
              "    </tr>\n",
              "    <tr>\n",
              "      <td>5</td>\n",
              "      <td>0.956027</td>\n",
              "      <td>1.005440</td>\n",
              "      <td>0.476139</td>\n",
              "      <td>13:19</td>\n",
              "    </tr>\n",
              "    <tr>\n",
              "      <td>6</td>\n",
              "      <td>0.965376</td>\n",
              "      <td>0.998689</td>\n",
              "      <td>0.490640</td>\n",
              "      <td>13:19</td>\n",
              "    </tr>\n",
              "    <tr>\n",
              "      <td>7</td>\n",
              "      <td>0.916313</td>\n",
              "      <td>0.994604</td>\n",
              "      <td>0.496359</td>\n",
              "      <td>13:20</td>\n",
              "    </tr>\n",
              "    <tr>\n",
              "      <td>8</td>\n",
              "      <td>0.901774</td>\n",
              "      <td>0.998636</td>\n",
              "      <td>0.501177</td>\n",
              "      <td>13:21</td>\n",
              "    </tr>\n",
              "    <tr>\n",
              "      <td>9</td>\n",
              "      <td>0.908289</td>\n",
              "      <td>0.997481</td>\n",
              "      <td>0.495486</td>\n",
              "      <td>13:20</td>\n",
              "    </tr>\n",
              "  </tbody>\n",
              "</table>"
            ]
          },
          "metadata": {}
        }
      ],
      "source": [
        "learn.fine_tune(10)"
      ]
    },
    {
      "cell_type": "code",
      "execution_count": 38,
      "metadata": {
        "colab": {
          "base_uri": "https://localhost:8080/",
          "height": 1000
        },
        "id": "v8V9lSW3cbD-",
        "outputId": "78556e29-8cbc-4f5b-9ab5-3775ea0431ab"
      },
      "outputs": [
        {
          "output_type": "display_data",
          "data": {
            "text/plain": [
              "<IPython.core.display.HTML object>"
            ],
            "text/html": [
              "\n",
              "<style>\n",
              "    /* Turns off some styling */\n",
              "    progress {\n",
              "        /* gets rid of default border in Firefox and Opera. */\n",
              "        border: none;\n",
              "        /* Needs to be in here for Safari polyfill so background images work as expected. */\n",
              "        background-size: auto;\n",
              "    }\n",
              "    progress:not([value]), progress:not([value])::-webkit-progress-bar {\n",
              "        background: repeating-linear-gradient(45deg, #7e7e7e, #7e7e7e 10px, #5c5c5c 10px, #5c5c5c 20px);\n",
              "    }\n",
              "    .progress-bar-interrupted, .progress-bar-interrupted::-webkit-progress-bar {\n",
              "        background: #F44336;\n",
              "    }\n",
              "</style>\n"
            ]
          },
          "metadata": {}
        },
        {
          "output_type": "display_data",
          "data": {
            "text/plain": [
              "<IPython.core.display.HTML object>"
            ],
            "text/html": []
          },
          "metadata": {}
        },
        {
          "output_type": "display_data",
          "data": {
            "text/plain": [
              "<IPython.core.display.HTML object>"
            ],
            "text/html": [
              "<table border=\"1\" class=\"dataframe\">\n",
              "  <thead>\n",
              "    <tr style=\"text-align: right;\">\n",
              "      <th></th>\n",
              "      <th>text</th>\n",
              "      <th>category</th>\n",
              "      <th>category_</th>\n",
              "    </tr>\n",
              "  </thead>\n",
              "  <tbody>\n",
              "    <tr>\n",
              "      <th>0</th>\n",
              "      <td>xxbos xxmaj when i try to capture in words the adventures in reading that i had in 2015 , i feel flummoxed at where to start . a tally of books read ? xxmaj list by genre ? xxmaj success / failure of reading challenges ? xxmaj in years pasts , those were my go to places for wrap ups , but xxmaj i 'm not feeling like that 's what this year was about to me . xxmaj even a favourites list feels so subjective and personal , i wonder at the value of sharing it . i did decide to do a favourite lists , but before i get to that i thought i would share some learnings that reading brought to me this year . \\n▁ i feel like xxmaj i 've managed a good balance between expanding my reading horizons and enjoyment reading this year .</td>\n",
              "      <td>5</td>\n",
              "      <td>4</td>\n",
              "    </tr>\n",
              "    <tr>\n",
              "      <th>1</th>\n",
              "      <td>xxbos xxmaj gone xxmaj with the xxmaj wind is pretty cool , except for all the racism ! \\n▁ xxmaj of course , you could say that about the xxmaj old xxmaj south in general , and look where that got them . xxmaj spoiler , it got their asses kicked because they were hateful fucks who absolutely refused to stop enslaving millions of people and 70 years later in 1936 here 's xxmaj margaret xxmaj mitchell whining about it for a thousand pages . xxmaj if you 'd like to hear why slavery was terrific and black people are inferior to whites and they liked being slaves , here is your epic . xxmaj if that sounds unpleasant , you 're not going to like xxmaj gone xxmaj with the xxmaj wind . \\n▁ a non - racist book can have racist characters , and all the characters in</td>\n",
              "      <td>1</td>\n",
              "      <td>1</td>\n",
              "    </tr>\n",
              "    <tr>\n",
              "      <th>2</th>\n",
              "      <td>xxbos * * spoiler alert * * \\n▁ xxmaj two - second recap : xxmaj if you 're interested in xxup ya at all , you 've probably heard about the buzz surrounding xxmaj all xxmaj our xxmaj yesterdays . \\n▁ xxmaj cristin xxmaj terrill 's debut novel is a spectacular book that everyone will be talking about in the fall , and you do n't want to be left out . xxmaj so buy it . xxmaj you 'll thank me later . \\n▁ xxrep 3 * \\n▁ xxmaj full review : \\n▁ xxmaj there are some books that are so flawlessly written , that you 'll likely end up thinking back to the very first time you heard about the book . \\n▁ xxmaj cristin xxmaj terrill 's xxmaj all xxmaj our xxmaj yesterdays is definitely one of those books . xxmaj the first time i heard about</td>\n",
              "      <td>5</td>\n",
              "      <td>4</td>\n",
              "    </tr>\n",
              "    <tr>\n",
              "      <th>3</th>\n",
              "      <td>xxbos xxmaj it breaks my heart a little to not rate a xxmaj harry xxmaj potter related book 5 - stars , but i ca n't bring myself to give this 5 - stars . xxmaj in fact , if xxmaj i 'm being entirely honest , this is closer to a 2 - star book than a 3 - star , like a xxunk - star book , but we 'll round up because this series means so much to me - xxmaj i 'd be perfectly content with reading 300 - pages of xxmaj hermione 's lecture notes on xxmaj professor xxmaj xxunk discussing self - stirring xxunk . \\n▁ xxmaj this was without a doubt my most anticipated read of 2016 . xxmaj there has been a void in my life with the absence of new xxmaj harry xxmaj potter books . xxmaj so perhaps i built</td>\n",
              "      <td>3</td>\n",
              "      <td>4</td>\n",
              "    </tr>\n",
              "    <tr>\n",
              "      <th>4</th>\n",
              "      <td>xxbos \" my name is xxmaj aelin xxmaj ashryver xxmaj galathynius … \\n▁ xxmaj and i will not be afraid . \" \\n▁ xxrep 11 _ \\n▁ xxmaj empire of xxmaj storms was , quite possibly , my favourite book of this year , almost topping xxmaj lady xxmaj midnight and xxmaj nevernight . xxmaj the xxmaj throne of xxmaj glass books are purely astounding ; all of them add to xxmaj aelin 's storyline and it brings such joy to my soul to see my favourite characters grow up and mature as things go on , as xxmaj erawan 's dark army builds upon book by book . xxmaj this instalment in the series was a particularly emotional one , and frankly , i am ruined by heart and broken soul by the last few chapters . \\n▁ xxmaj you know a book is good when your head is</td>\n",
              "      <td>5</td>\n",
              "      <td>5</td>\n",
              "    </tr>\n",
              "    <tr>\n",
              "      <th>5</th>\n",
              "      <td>xxbos xxmaj trying to remember the very first books i was introduced to , i remember reading xxmaj the xxmaj royal xxmaj diaries sometime in my childhood . i remember reading a few of them such as xxmaj elizabeth xxup i , xxmaj marie xxmaj antoinette , and xxmaj cleopatra xxup vii . xxmaj but unlike certain books that i read ( such as xxmaj animorphs , xxmaj harry xxmaj potter , and xxmaj warriors . ) where i remembered the characters , the story , and other things that i liked about them . xxmaj the xxmaj royal xxmaj xxunk on the other hand , i barely remember a thing about the books . xxmaj but i really confused on to why that is because my sister and i used to read these books all the time and we loved them so much . xxmaj looking back on it</td>\n",
              "      <td>2</td>\n",
              "      <td>3</td>\n",
              "    </tr>\n",
              "    <tr>\n",
              "      <th>6</th>\n",
              "      <td>xxbos xxmaj edit : xxmaj aug 8 , 2015 \\n▁ i think i may have been to harsh on my earlier review on xxmaj red xxmaj queen . xxmaj looking back at it now , i feel like i did n't give it enough credit . xxmaj do n't get me wrong , the book still has its ' flaws , but xxmaj i 'm now starting to overlook some of them and it got me to the point where i have decided to edit my review . \\n▁ xxmaj originally , i gave xxmaj red xxmaj queen two stars , but now that i had some time to analyze some of the aspects of it , i decided to give it three stars . \\n▁ xxmaj here 's why : xxmaj i 'll start off by saying i have been a victim of hype before . xxmaj when that</td>\n",
              "      <td>3</td>\n",
              "      <td>3</td>\n",
              "    </tr>\n",
              "    <tr>\n",
              "      <th>7</th>\n",
              "      <td>xxbos xxmaj let me tell you something , seeing your name and psychiatric ward on the same piece of paper is n't the best way to start your day . \\n▁ xxmaj suicide xxmaj notes was a quick , witty , funny yet raw novel about xxmaj jeff , a 15 year old boy who attempted to commit suicide . xxmaj after being admitted to a psychiatric hospital , xxmaj jeff has been told he will be completing a 45 day program to help understand and treat his mental health ' issues ' and get his life back on track . \\n▁ xxmaj jeff was sarcastic and straight forward , his thoughts were no nonsense , and he was very easy to like . i was reading this on the train on the way to work yesterday and nearly choked trying not to laugh out loud . xxmaj it 's</td>\n",
              "      <td>4</td>\n",
              "      <td>4</td>\n",
              "    </tr>\n",
              "    <tr>\n",
              "      <th>8</th>\n",
              "      <td>xxbos i was so excited for these two 's story . xxmaj it was all set up in xxmaj book xxmaj one , xxmaj hell on xxmaj wheels . xxmaj old(er ) ( 39 ) xxmaj boss of the special - ops team , xxmaj frank , and younger ( 26 ) feisty mechanic extraordinaire xxmaj becky . xxmaj they 've been secretly in love with each other for three years now . xxmaj but , much to xxmaj becky 's frustration and disappointment , xxmaj frank wo n't make a move on her because a. ) xxmaj she 's 13 years younger than him and b. ) he 's her boss , technically and c. ) ( view spoiler)[he made a promise to his sister that he 'd never become like his philandering no - good father who regularly cheated on xxmaj frank 's mom with younger women .</td>\n",
              "      <td>3</td>\n",
              "      <td>3</td>\n",
              "    </tr>\n",
              "  </tbody>\n",
              "</table>"
            ]
          },
          "metadata": {}
        }
      ],
      "source": [
        "learn.show_results()"
      ]
    },
    {
      "cell_type": "code",
      "execution_count": 40,
      "metadata": {
        "colab": {
          "base_uri": "https://localhost:8080/",
          "height": 34
        },
        "id": "3WHZ1ICOcpwO",
        "outputId": "fbc59eec-3633-41d3-9caf-096c4975c51f"
      },
      "outputs": [
        {
          "output_type": "display_data",
          "data": {
            "text/plain": [
              "<IPython.core.display.HTML object>"
            ],
            "text/html": [
              "\n",
              "<style>\n",
              "    /* Turns off some styling */\n",
              "    progress {\n",
              "        /* gets rid of default border in Firefox and Opera. */\n",
              "        border: none;\n",
              "        /* Needs to be in here for Safari polyfill so background images work as expected. */\n",
              "        background-size: auto;\n",
              "    }\n",
              "    progress:not([value]), progress:not([value])::-webkit-progress-bar {\n",
              "        background: repeating-linear-gradient(45deg, #7e7e7e, #7e7e7e 10px, #5c5c5c 10px, #5c5c5c 20px);\n",
              "    }\n",
              "    .progress-bar-interrupted, .progress-bar-interrupted::-webkit-progress-bar {\n",
              "        background: #F44336;\n",
              "    }\n",
              "</style>\n"
            ]
          },
          "metadata": {}
        },
        {
          "output_type": "display_data",
          "data": {
            "text/plain": [
              "<IPython.core.display.HTML object>"
            ],
            "text/html": []
          },
          "metadata": {}
        },
        {
          "output_type": "execute_result",
          "data": {
            "text/plain": [
              "('5', tensor(5), tensor([0.0305, 0.1736, 0.0589, 0.0496, 0.1085, 0.5790]))"
            ]
          },
          "metadata": {},
          "execution_count": 40
        }
      ],
      "source": [
        "learn.predict(\"I don't like that book!\")"
      ]
    },
    {
      "cell_type": "code",
      "execution_count": 41,
      "metadata": {
        "id": "Fd_RelwIg6UM",
        "colab": {
          "base_uri": "https://localhost:8080/",
          "height": 332
        },
        "outputId": "6c079658-e52c-49b6-b0b8-119e16ac310b"
      },
      "outputs": [
        {
          "output_type": "error",
          "ename": "KeyboardInterrupt",
          "evalue": "ignored",
          "traceback": [
            "\u001b[0;31m---------------------------------------------------------------------------\u001b[0m",
            "\u001b[0;31mKeyboardInterrupt\u001b[0m                         Traceback (most recent call last)",
            "\u001b[0;32m<ipython-input-41-075aada57df8>\u001b[0m in \u001b[0;36m<module>\u001b[0;34m\u001b[0m\n\u001b[0;32m----> 1\u001b[0;31m \u001b[0mlearn\u001b[0m\u001b[0;34m.\u001b[0m\u001b[0mexport\u001b[0m\u001b[0;34m(\u001b[0m\u001b[0;34m\"review.pkl\"\u001b[0m\u001b[0;34m)\u001b[0m\u001b[0;34m\u001b[0m\u001b[0;34m\u001b[0m\u001b[0m\n\u001b[0m",
            "\u001b[0;32m/usr/local/lib/python3.7/dist-packages/fastai/learner.py\u001b[0m in \u001b[0;36mexport\u001b[0;34m(self, fname, pickle_module, pickle_protocol)\u001b[0m\n\u001b[1;32m    426\u001b[0m         \u001b[0;31m#To avoid the warning that come from PyTorch about model not being checked\u001b[0m\u001b[0;34m\u001b[0m\u001b[0;34m\u001b[0m\u001b[0;34m\u001b[0m\u001b[0m\n\u001b[1;32m    427\u001b[0m         \u001b[0mwarnings\u001b[0m\u001b[0;34m.\u001b[0m\u001b[0msimplefilter\u001b[0m\u001b[0;34m(\u001b[0m\u001b[0;34m\"ignore\"\u001b[0m\u001b[0;34m)\u001b[0m\u001b[0;34m\u001b[0m\u001b[0;34m\u001b[0m\u001b[0m\n\u001b[0;32m--> 428\u001b[0;31m         \u001b[0mtorch\u001b[0m\u001b[0;34m.\u001b[0m\u001b[0msave\u001b[0m\u001b[0;34m(\u001b[0m\u001b[0mself\u001b[0m\u001b[0;34m,\u001b[0m \u001b[0mself\u001b[0m\u001b[0;34m.\u001b[0m\u001b[0mpath\u001b[0m\u001b[0;34m/\u001b[0m\u001b[0mfname\u001b[0m\u001b[0;34m,\u001b[0m \u001b[0mpickle_module\u001b[0m\u001b[0;34m=\u001b[0m\u001b[0mpickle_module\u001b[0m\u001b[0;34m,\u001b[0m \u001b[0mpickle_protocol\u001b[0m\u001b[0;34m=\u001b[0m\u001b[0mpickle_protocol\u001b[0m\u001b[0;34m)\u001b[0m\u001b[0;34m\u001b[0m\u001b[0;34m\u001b[0m\u001b[0m\n\u001b[0m\u001b[1;32m    429\u001b[0m     \u001b[0mself\u001b[0m\u001b[0;34m.\u001b[0m\u001b[0mcreate_opt\u001b[0m\u001b[0;34m(\u001b[0m\u001b[0;34m)\u001b[0m\u001b[0;34m\u001b[0m\u001b[0;34m\u001b[0m\u001b[0m\n\u001b[1;32m    430\u001b[0m     \u001b[0;32mif\u001b[0m \u001b[0mstate\u001b[0m \u001b[0;32mis\u001b[0m \u001b[0;32mnot\u001b[0m \u001b[0;32mNone\u001b[0m\u001b[0;34m:\u001b[0m \u001b[0mself\u001b[0m\u001b[0;34m.\u001b[0m\u001b[0mopt\u001b[0m\u001b[0;34m.\u001b[0m\u001b[0mload_state_dict\u001b[0m\u001b[0;34m(\u001b[0m\u001b[0mstate\u001b[0m\u001b[0;34m)\u001b[0m\u001b[0;34m\u001b[0m\u001b[0;34m\u001b[0m\u001b[0m\n",
            "\u001b[0;32m/usr/local/lib/python3.7/dist-packages/torch/serialization.py\u001b[0m in \u001b[0;36msave\u001b[0;34m(obj, f, pickle_module, pickle_protocol, _use_new_zipfile_serialization)\u001b[0m\n\u001b[1;32m    377\u001b[0m         \u001b[0;32mif\u001b[0m \u001b[0m_use_new_zipfile_serialization\u001b[0m\u001b[0;34m:\u001b[0m\u001b[0;34m\u001b[0m\u001b[0;34m\u001b[0m\u001b[0m\n\u001b[1;32m    378\u001b[0m             \u001b[0;32mwith\u001b[0m \u001b[0m_open_zipfile_writer\u001b[0m\u001b[0;34m(\u001b[0m\u001b[0mopened_file\u001b[0m\u001b[0;34m)\u001b[0m \u001b[0;32mas\u001b[0m \u001b[0mopened_zipfile\u001b[0m\u001b[0;34m:\u001b[0m\u001b[0;34m\u001b[0m\u001b[0;34m\u001b[0m\u001b[0m\n\u001b[0;32m--> 379\u001b[0;31m                 \u001b[0m_save\u001b[0m\u001b[0;34m(\u001b[0m\u001b[0mobj\u001b[0m\u001b[0;34m,\u001b[0m \u001b[0mopened_zipfile\u001b[0m\u001b[0;34m,\u001b[0m \u001b[0mpickle_module\u001b[0m\u001b[0;34m,\u001b[0m \u001b[0mpickle_protocol\u001b[0m\u001b[0;34m)\u001b[0m\u001b[0;34m\u001b[0m\u001b[0;34m\u001b[0m\u001b[0m\n\u001b[0m\u001b[1;32m    380\u001b[0m                 \u001b[0;32mreturn\u001b[0m\u001b[0;34m\u001b[0m\u001b[0;34m\u001b[0m\u001b[0m\n\u001b[1;32m    381\u001b[0m         \u001b[0m_legacy_save\u001b[0m\u001b[0;34m(\u001b[0m\u001b[0mobj\u001b[0m\u001b[0;34m,\u001b[0m \u001b[0mopened_file\u001b[0m\u001b[0;34m,\u001b[0m \u001b[0mpickle_module\u001b[0m\u001b[0;34m,\u001b[0m \u001b[0mpickle_protocol\u001b[0m\u001b[0;34m)\u001b[0m\u001b[0;34m\u001b[0m\u001b[0;34m\u001b[0m\u001b[0m\n",
            "\u001b[0;32m/usr/local/lib/python3.7/dist-packages/torch/serialization.py\u001b[0m in \u001b[0;36m_save\u001b[0;34m(obj, zip_file, pickle_module, pickle_protocol)\u001b[0m\n\u001b[1;32m    602\u001b[0m         \u001b[0;31m# Now that it is on the CPU we can directly copy it into the zip file\u001b[0m\u001b[0;34m\u001b[0m\u001b[0;34m\u001b[0m\u001b[0;34m\u001b[0m\u001b[0m\n\u001b[1;32m    603\u001b[0m         \u001b[0mnum_bytes\u001b[0m \u001b[0;34m=\u001b[0m \u001b[0mstorage\u001b[0m\u001b[0;34m.\u001b[0m\u001b[0mnbytes\u001b[0m\u001b[0;34m(\u001b[0m\u001b[0;34m)\u001b[0m\u001b[0;34m\u001b[0m\u001b[0;34m\u001b[0m\u001b[0m\n\u001b[0;32m--> 604\u001b[0;31m         \u001b[0mzip_file\u001b[0m\u001b[0;34m.\u001b[0m\u001b[0mwrite_record\u001b[0m\u001b[0;34m(\u001b[0m\u001b[0mname\u001b[0m\u001b[0;34m,\u001b[0m \u001b[0mstorage\u001b[0m\u001b[0;34m.\u001b[0m\u001b[0mdata_ptr\u001b[0m\u001b[0;34m(\u001b[0m\u001b[0;34m)\u001b[0m\u001b[0;34m,\u001b[0m \u001b[0mnum_bytes\u001b[0m\u001b[0;34m)\u001b[0m\u001b[0;34m\u001b[0m\u001b[0;34m\u001b[0m\u001b[0m\n\u001b[0m\u001b[1;32m    605\u001b[0m \u001b[0;34m\u001b[0m\u001b[0m\n\u001b[1;32m    606\u001b[0m \u001b[0;34m\u001b[0m\u001b[0m\n",
            "\u001b[0;31mKeyboardInterrupt\u001b[0m: "
          ]
        }
      ],
      "source": [
        "learn.export(\"review.pkl\")"
      ]
    },
    {
      "cell_type": "code",
      "execution_count": null,
      "metadata": {
        "colab": {
          "base_uri": "https://localhost:8080/"
        },
        "id": "fnQq7Z26hWAe",
        "outputId": "5f386597-a142-4767-add2-67ac060e67a6"
      },
      "outputs": [
        {
          "name": "stdout",
          "output_type": "stream",
          "text": [
            "total 819924\n",
            "drwxr-xr-x 1 root root      4096 Nov  9 03:50 .\n",
            "drwxr-xr-x 1 root root      4096 Nov  9 03:14 ..\n",
            "drwxr-xr-x 4 root root      4096 Nov  7 14:36 .config\n",
            "drwxr-xr-x 4 root root      4096 Nov  9 03:38 data\n",
            "-rw-r--r-- 1 root root 665360857 Nov  9 03:38 goodreads-books-reviews-290312.zip\n",
            "-rw-r--r-- 1 root root  16731172 Nov  9 03:38 goodreads_sample_submission.csv\n",
            "-rw-r--r-- 1 root root        65 Nov  9 03:38 kaggle.json\n",
            "-rw-r--r-- 1 root root 157477811 Nov  9 03:50 review.pkl\n",
            "drwxr-xr-x 1 root root      4096 Nov  7 14:37 sample_data\n"
          ]
        }
      ],
      "source": [
        "!ls -al \n"
      ]
    }
  ],
  "metadata": {
    "accelerator": "GPU",
    "colab": {
      "collapsed_sections": [
        "pjHkfTQNlWli",
        "JgYn59Q2m8Km"
      ],
      "provenance": []
    },
    "gpuClass": "standard",
    "kernelspec": {
      "display_name": "Python 3.10.6 ('fastai')",
      "language": "python",
      "name": "python3"
    },
    "language_info": {
      "codemirror_mode": {
        "name": "ipython",
        "version": 3
      },
      "file_extension": ".py",
      "mimetype": "text/x-python",
      "name": "python",
      "nbconvert_exporter": "python",
      "pygments_lexer": "ipython3",
      "version": "3.10.6"
    },
    "vscode": {
      "interpreter": {
        "hash": "26f966207ac7c1ec49bf34d8afec01d7a28f254c634bfc7980ffae6ea97c0ce9"
      }
    }
  },
  "nbformat": 4,
  "nbformat_minor": 0
}